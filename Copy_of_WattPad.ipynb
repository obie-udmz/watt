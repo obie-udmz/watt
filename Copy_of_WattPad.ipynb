{
  "nbformat": 4,
  "nbformat_minor": 0,
  "metadata": {
    "colab": {
      "name": "Copy of WattPad.ipynb",
      "provenance": [],
      "collapsed_sections": [
        "BGrHZsSEr-yP"
      ],
      "toc_visible": true,
      "authorship_tag": "ABX9TyMMqmyLzKyyro6m/28Z1HaP",
      "include_colab_link": true
    },
    "kernelspec": {
      "name": "python3",
      "display_name": "Python 3"
    },
    "accelerator": "GPU"
  },
  "cells": [
    {
      "cell_type": "markdown",
      "metadata": {
        "id": "view-in-github",
        "colab_type": "text"
      },
      "source": [
        "<a href=\"https://colab.research.google.com/github/obie-udmz/watt/blob/main/Copy_of_WattPad.ipynb\" target=\"_parent\"><img src=\"https://colab.research.google.com/assets/colab-badge.svg\" alt=\"Open In Colab\"/></a>"
      ]
    },
    {
      "cell_type": "markdown",
      "metadata": {
        "id": "s-vLhN9e2wLP"
      },
      "source": [
        "### Document similarity and ranking"
      ]
    },
    {
      "cell_type": "markdown",
      "metadata": {
        "id": "uboUU2c8_8ua"
      },
      "source": [
        "#### Import Library \r\n",
        "All the libraries needed for running this program is imported here"
      ]
    },
    {
      "cell_type": "code",
      "metadata": {
        "id": "avl-ceOjU2c_"
      },
      "source": [
        "import numpy as np\r\n",
        "import pandas as pd\r\n",
        "import nltk\r\n",
        "nltk.download('punkt') # one time execution\r\n",
        "import re\r\n",
        "from nltk.tokenize import sent_tokenize\r\n",
        "from nltk.corpus import stopwords\r\n",
        "from sklearn.metrics.pairwise import cosine_similarity\r\n",
        "from sklearn.metrics.pairwise import cosine_similarity\r\n",
        "import networkx as nx"
      ],
      "execution_count": 1,
      "outputs": []
    },
    {
      "cell_type": "markdown",
      "metadata": {
        "id": "iKONGf5VEYHd"
      },
      "source": [
        "#### Import dataset and GLoVe model file "
      ]
    },
    {
      "cell_type": "code",
      "metadata": {
        "colab": {
          "base_uri": "https://localhost:8080/"
        },
        "id": "iUXUYpgDGMhl",
        "outputId": "abdfddb6-2108-41ff-fb4b-cf0321804ba8"
      },
      "source": [
        "!git clone https://github.com/obie-udmz/watt.git"
      ],
      "execution_count": 3,
      "outputs": [
        {
          "output_type": "stream",
          "text": [
            "Cloning into 'watt'...\n",
            "remote: Enumerating objects: 6, done.\u001b[K\n",
            "remote: Counting objects: 100% (6/6), done.\u001b[K\n",
            "remote: Compressing objects: 100% (5/5), done.\u001b[K\n",
            "remote: Total 6 (delta 0), reused 0 (delta 0), pack-reused 0\u001b[K\n",
            "Unpacking objects: 100% (6/6), done.\n"
          ],
          "name": "stdout"
        }
      ]
    },
    {
      "cell_type": "code",
      "metadata": {
        "id": "2Hl2Sbr9H4Ks"
      },
      "source": [
        ""
      ],
      "execution_count": null,
      "outputs": []
    },
    {
      "cell_type": "code",
      "metadata": {
        "id": "Z0fkJw85VdDg"
      },
      "source": [
        "df = pd.read_table('watt/corpus_coding_test.tsv', sep='\\t')"
      ],
      "execution_count": 4,
      "outputs": []
    },
    {
      "cell_type": "code",
      "metadata": {
        "id": "h53ttD-KV50u"
      },
      "source": [
        "data = pd.DataFrame(df.head(50))"
      ],
      "execution_count": 7,
      "outputs": []
    },
    {
      "cell_type": "code",
      "metadata": {
        "colab": {
          "base_uri": "https://localhost:8080/"
        },
        "id": "aLgLxi_yb6jm",
        "outputId": "580f00dd-d457-4d51-b656-d2407073595d"
      },
      "source": [
        "print(data.info())"
      ],
      "execution_count": 8,
      "outputs": [
        {
          "output_type": "stream",
          "text": [
            "<class 'pandas.core.frame.DataFrame'>\n",
            "RangeIndex: 50 entries, 0 to 49\n",
            "Data columns (total 2 columns):\n",
            " #   Column    Non-Null Count  Dtype \n",
            "---  ------    --------------  ----- \n",
            " 0   id        50 non-null     int64 \n",
            " 1   doc_name  50 non-null     object\n",
            "dtypes: int64(1), object(1)\n",
            "memory usage: 928.0+ bytes\n",
            "None\n"
          ],
          "name": "stdout"
        }
      ]
    },
    {
      "cell_type": "code",
      "metadata": {
        "id": "OaI4HYH-c22G"
      },
      "source": [
        "data.rename(columns={ data.columns[0]: \"id\", data.columns[1]: \"doc_name\"}, inplace = True)"
      ],
      "execution_count": null,
      "outputs": []
    },
    {
      "cell_type": "code",
      "metadata": {
        "id": "xs0SIZR1el9t"
      },
      "source": [
        "data.head()"
      ],
      "execution_count": null,
      "outputs": []
    },
    {
      "cell_type": "code",
      "metadata": {
        "id": "Kkz6k5_D-Y79"
      },
      "source": [
        "data[data['id']==44081]"
      ],
      "execution_count": null,
      "outputs": []
    },
    {
      "cell_type": "code",
      "metadata": {
        "id": "0RMEsN6e-8BN"
      },
      "source": [
        "data['doc_name'][0]"
      ],
      "execution_count": null,
      "outputs": []
    },
    {
      "cell_type": "markdown",
      "metadata": {
        "id": "Z8zzMSGQnoUd"
      },
      "source": [
        "### Branch 2"
      ]
    },
    {
      "cell_type": "code",
      "metadata": {
        "id": "vkodJ-4inpvo"
      },
      "source": [
        "gloveFile = \"glove.6B.50d.txt\"\r\n",
        "\r\n",
        "def loadGloveModel(gloveFile):\r\n",
        "    print (\"word vectors extraction begings\")\r\n",
        "    with open(gloveFile, encoding=\"utf8\" ) as f:\r\n",
        "        content = f.readlines()\r\n",
        "    word_embedding = {}\r\n",
        "    for line in content:\r\n",
        "        values = line.split()\r\n",
        "        words = values[0]\r\n",
        "        embedding = np.array([float(val) for val in values[1:]])\r\n",
        "        word_embedding[words] = embedding\r\n",
        "    print (\"extraction of \",len(word_embedding),\"word vectors completed!\")\r\n",
        "    return word_embedding"
      ],
      "execution_count": null,
      "outputs": []
    },
    {
      "cell_type": "code",
      "metadata": {
        "colab": {
          "base_uri": "https://localhost:8080/"
        },
        "id": "tQyJ69z8uMTW",
        "outputId": "e6d018e9-8834-408f-c177-ea87ade2a4cc"
      },
      "source": [
        " word_embeddings=loadGloveModel(gloveFile)"
      ],
      "execution_count": null,
      "outputs": [
        {
          "output_type": "stream",
          "text": [
            "word vectors extraction begings\n",
            "extraction of  400000 word vectors completed!\n"
          ],
          "name": "stdout"
        }
      ]
    },
    {
      "cell_type": "code",
      "metadata": {
        "colab": {
          "base_uri": "https://localhost:8080/"
        },
        "id": "a5FhBli4vh02",
        "outputId": "3c9af73a-c255-4c31-f01f-1203ae55b73b"
      },
      "source": [
        ""
      ],
      "execution_count": null,
      "outputs": [
        {
          "output_type": "stream",
          "text": [
            "[nltk_data] Downloading package punkt to /root/nltk_data...\n",
            "[nltk_data]   Unzipping tokenizers/punkt.zip.\n"
          ],
          "name": "stdout"
        }
      ]
    },
    {
      "cell_type": "code",
      "metadata": {
        "id": "5Cs8tbkw6m-W"
      },
      "source": [
        "\r\n",
        "sentences = []\r\n",
        "for s in data['doc_name']:\r\n",
        "  sentences.append(sent_tokenize(s))\r\n",
        "\r\n",
        "sentences = [y for x in sentences for y in x] # flatten list"
      ],
      "execution_count": null,
      "outputs": []
    },
    {
      "cell_type": "code",
      "metadata": {
        "colab": {
          "base_uri": "https://localhost:8080/"
        },
        "id": "FmzoXVAzBQOl",
        "outputId": "e4cb464a-0458-4b4c-d220-1cfcb2f60a37"
      },
      "source": [
        "sentences[:5]"
      ],
      "execution_count": null,
      "outputs": [
        {
          "output_type": "execute_result",
          "data": {
            "text/plain": [
              "['I hear it all the time boo!',\n",
              " \"Too bad I ain't got the patience for anyone else's problems!\",\n",
              " 'That got me laughing even through all the pain.',\n",
              " \"It really wasn't that good.\",\n",
              " 'I hugged me best friend.']"
            ]
          },
          "metadata": {
            "tags": []
          },
          "execution_count": 15
        }
      ]
    },
    {
      "cell_type": "code",
      "metadata": {
        "id": "ykZ7uPqBsko-"
      },
      "source": [
        ""
      ],
      "execution_count": null,
      "outputs": []
    },
    {
      "cell_type": "code",
      "metadata": {
        "id": "Bkk2mLjGBay9"
      },
      "source": [
        "# remove punctuations, numbers and special characters\r\n",
        "clean_sentences = pd.Series(sentences).str.replace(\"[^a-zA-Z]\", \" \")\r\n",
        "\r\n",
        "# make alphabets lowercase\r\n",
        "clean_sentences = [s.lower() for s in clean_sentences]"
      ],
      "execution_count": null,
      "outputs": []
    },
    {
      "cell_type": "code",
      "metadata": {
        "colab": {
          "base_uri": "https://localhost:8080/"
        },
        "id": "DsOGvTDFBpVU",
        "outputId": "0acaf5f2-6c65-4cc7-e909-c85ce617f285"
      },
      "source": [
        "nltk.download('stopwords')"
      ],
      "execution_count": null,
      "outputs": [
        {
          "output_type": "stream",
          "text": [
            "[nltk_data] Downloading package stopwords to /root/nltk_data...\n",
            "[nltk_data]   Unzipping corpora/stopwords.zip.\n"
          ],
          "name": "stdout"
        },
        {
          "output_type": "execute_result",
          "data": {
            "text/plain": [
              "True"
            ]
          },
          "metadata": {
            "tags": []
          },
          "execution_count": 17
        }
      ]
    },
    {
      "cell_type": "code",
      "metadata": {
        "id": "6m2LdpJ9BuFN"
      },
      "source": [
        "\r\n",
        "stop_words = stopwords.words('english')"
      ],
      "execution_count": null,
      "outputs": []
    },
    {
      "cell_type": "code",
      "metadata": {
        "id": "nlkoZYnPBwxE"
      },
      "source": [
        "# function to remove stopwords\r\n",
        "def remove_stopwords(sen):\r\n",
        "    sen_new = \" \".join([i for i in sen if i not in stop_words])\r\n",
        "    return sen_new"
      ],
      "execution_count": null,
      "outputs": []
    },
    {
      "cell_type": "code",
      "metadata": {
        "id": "PAXnrTBSBzo8"
      },
      "source": [
        "# remove stopwords from the sentences\r\n",
        "clean_sentences = [remove_stopwords(r.split()) for r in clean_sentences]"
      ],
      "execution_count": null,
      "outputs": []
    },
    {
      "cell_type": "code",
      "metadata": {
        "id": "EMGVPX4MB_pc"
      },
      "source": [
        "sentence_vectors = []\r\n",
        "for i in clean_sentences:\r\n",
        "  if len(i) != 0:\r\n",
        "    v = sum([word_embeddings.get(w, np.zeros((50,))) for w in i.split()])/(len(i.split())+0.001)\r\n",
        "  else:\r\n",
        "    v = np.zeros((50,))\r\n",
        "  sentence_vectors.append(v)"
      ],
      "execution_count": null,
      "outputs": []
    },
    {
      "cell_type": "code",
      "metadata": {
        "id": "A2XEjQfACXTl"
      },
      "source": [
        "# similarity matrix\r\n",
        "sim_mat = np.zeros([len(sentences), len(sentences)])"
      ],
      "execution_count": null,
      "outputs": []
    },
    {
      "cell_type": "code",
      "metadata": {
        "id": "Pl7_vbdE2Fsy"
      },
      "source": [
        ""
      ],
      "execution_count": null,
      "outputs": []
    },
    {
      "cell_type": "code",
      "metadata": {
        "id": "neR-L7512GmC"
      },
      "source": [
        "for i in range(len(sentences)):\r\n",
        "  for j in range(len(sentences)):\r\n",
        "    if i != j:\r\n",
        "      sim_mat[i][j] = cosine_similarity(sentence_vectors[i].reshape(1,50), sentence_vectors[j].reshape(1,50))[0,0]"
      ],
      "execution_count": null,
      "outputs": []
    },
    {
      "cell_type": "code",
      "metadata": {
        "id": "0Eyi7jdO2Jk5"
      },
      "source": [
        "\r\n",
        "\r\n",
        "nx_graph = nx.from_numpy_array(sim_mat)\r\n",
        "scores = nx.pagerank(nx_graph)"
      ],
      "execution_count": null,
      "outputs": []
    },
    {
      "cell_type": "code",
      "metadata": {
        "id": "JNz4MsSC2z85"
      },
      "source": [
        "ranked_sentences = sorted(((scores[i],s) for i,s in enumerate(sentences)), reverse=True)"
      ],
      "execution_count": null,
      "outputs": []
    },
    {
      "cell_type": "code",
      "metadata": {
        "colab": {
          "base_uri": "https://localhost:8080/"
        },
        "id": "w3Ax2e5A3MiZ",
        "outputId": "4477c806-9089-4d74-ec9f-2f00e8b6919a"
      },
      "source": [
        "# Extract top 10 sentences as the summary\r\n",
        "for i in range(10):\r\n",
        "  print(ranked_sentences[i][1])"
      ],
      "execution_count": null,
      "outputs": [
        {
          "output_type": "stream",
          "text": [
            "She rolled her eyes at me, “Ok, I’ve got to go, he’s giving me the stink eye for taking his phone.” She laughed again and I could hear Rosie laughing through the line too.\n",
            "I looked her over to make sure everything was ok with her, I hadn’t been here for five weeks because everything was a little crazy at the moment with Cameron, Rosie and my job.\n",
            "That was always the first thing out of her mouth, followed by…..  As I walked out of the room I was tackled into a hug by my mom, I laughed as she squeezed the life out of me.\n",
            "Someone touched my back, making me jump because I hadn’t heard anyone else come in.\n",
            "Oh Nate, go home and get her and bring her back with you!” my mom begged, looking at me with the pleading eyes that she used on my dad all the time.\n",
            "I looked back to my mom to see she was still looking a little shocked.\n",
            "I’d made sure to drop into the conversation tonight a few things about my job but by the look on his face he knew what I did for a living anyway, and he was definitely scared of me.\n",
            "She started laughing at something Rosie had said, “So you two have been together for a couple of weeks from what I’ve been told……I’m so pleased……Well if he does then you just tell me and I’ll give him a slap for you.” She laughed again, her eyes twinkling.\n",
            "“You really need to find a girl to look after you and feed you properly, Nathaniel!”  I pulled back and grinned as I shook my head.\n",
            "Go home and get them both!” my mom cried, with wide excited eyes.\n"
          ],
          "name": "stdout"
        }
      ]
    },
    {
      "cell_type": "code",
      "metadata": {
        "colab": {
          "base_uri": "https://localhost:8080/",
          "height": 347
        },
        "id": "qMEFEB4Z3PYh",
        "outputId": "b4981e6e-d02f-4d7a-80bc-e45700e8579f"
      },
      "source": [
        "# Creating a dataframe object from ranked_sentences\r\n",
        "MS_top = pd.DataFrame(ranked_sentences, columns = ['Score' , 'Sentence'], index = None )\r\n",
        "MS_top.head(10)"
      ],
      "execution_count": null,
      "outputs": [
        {
          "output_type": "execute_result",
          "data": {
            "text/html": [
              "<div>\n",
              "<style scoped>\n",
              "    .dataframe tbody tr th:only-of-type {\n",
              "        vertical-align: middle;\n",
              "    }\n",
              "\n",
              "    .dataframe tbody tr th {\n",
              "        vertical-align: top;\n",
              "    }\n",
              "\n",
              "    .dataframe thead th {\n",
              "        text-align: right;\n",
              "    }\n",
              "</style>\n",
              "<table border=\"1\" class=\"dataframe\">\n",
              "  <thead>\n",
              "    <tr style=\"text-align: right;\">\n",
              "      <th></th>\n",
              "      <th>Score</th>\n",
              "      <th>Sentence</th>\n",
              "    </tr>\n",
              "  </thead>\n",
              "  <tbody>\n",
              "    <tr>\n",
              "      <th>0</th>\n",
              "      <td>0.001412</td>\n",
              "      <td>She rolled her eyes at me, “Ok, I’ve got to go...</td>\n",
              "    </tr>\n",
              "    <tr>\n",
              "      <th>1</th>\n",
              "      <td>0.001411</td>\n",
              "      <td>I looked her over to make sure everything was ...</td>\n",
              "    </tr>\n",
              "    <tr>\n",
              "      <th>2</th>\n",
              "      <td>0.001410</td>\n",
              "      <td>That was always the first thing out of her mou...</td>\n",
              "    </tr>\n",
              "    <tr>\n",
              "      <th>3</th>\n",
              "      <td>0.001409</td>\n",
              "      <td>Someone touched my back, making me jump becaus...</td>\n",
              "    </tr>\n",
              "    <tr>\n",
              "      <th>4</th>\n",
              "      <td>0.001408</td>\n",
              "      <td>Oh Nate, go home and get her and bring her bac...</td>\n",
              "    </tr>\n",
              "    <tr>\n",
              "      <th>5</th>\n",
              "      <td>0.001408</td>\n",
              "      <td>I looked back to my mom to see she was still l...</td>\n",
              "    </tr>\n",
              "    <tr>\n",
              "      <th>6</th>\n",
              "      <td>0.001407</td>\n",
              "      <td>I’d made sure to drop into the conversation to...</td>\n",
              "    </tr>\n",
              "    <tr>\n",
              "      <th>7</th>\n",
              "      <td>0.001407</td>\n",
              "      <td>She started laughing at something Rosie had sa...</td>\n",
              "    </tr>\n",
              "    <tr>\n",
              "      <th>8</th>\n",
              "      <td>0.001406</td>\n",
              "      <td>“You really need to find a girl to look after ...</td>\n",
              "    </tr>\n",
              "    <tr>\n",
              "      <th>9</th>\n",
              "      <td>0.001406</td>\n",
              "      <td>Go home and get them both!” my mom cried, with...</td>\n",
              "    </tr>\n",
              "  </tbody>\n",
              "</table>\n",
              "</div>"
            ],
            "text/plain": [
              "      Score                                           Sentence\n",
              "0  0.001412  She rolled her eyes at me, “Ok, I’ve got to go...\n",
              "1  0.001411  I looked her over to make sure everything was ...\n",
              "2  0.001410  That was always the first thing out of her mou...\n",
              "3  0.001409  Someone touched my back, making me jump becaus...\n",
              "4  0.001408  Oh Nate, go home and get her and bring her bac...\n",
              "5  0.001408  I looked back to my mom to see she was still l...\n",
              "6  0.001407  I’d made sure to drop into the conversation to...\n",
              "7  0.001407  She started laughing at something Rosie had sa...\n",
              "8  0.001406  “You really need to find a girl to look after ...\n",
              "9  0.001406  Go home and get them both!” my mom cried, with..."
            ]
          },
          "metadata": {
            "tags": []
          },
          "execution_count": 42
        }
      ]
    },
    {
      "cell_type": "code",
      "metadata": {
        "id": "JZOnhHXE98tE"
      },
      "source": [
        ""
      ],
      "execution_count": null,
      "outputs": []
    },
    {
      "cell_type": "code",
      "metadata": {
        "id": "OjCPwTJT98Zz"
      },
      "source": [
        "def preprocess(raw_text):\r\n",
        "\r\n",
        "    # keep only words\r\n",
        "    letters_only_text = re.sub(\"[^a-zA-Z]\", \" \", raw_text)\r\n",
        "\r\n",
        "    # convert to lower case and split \r\n",
        "    words = letters_only_text.lower().split()\r\n",
        "\r\n",
        "    # remove stopwords\r\n",
        "    stopword_set = set(stopwords.words(\"english\"))\r\n",
        "    cleaner_words = list(set([w for w in words if w not in stopword_set]))\r\n",
        "\r\n",
        "    return cleaner_words\r\n",
        "\r\n",
        "def word_vec(s1):\r\n",
        "    import scipy\r\n",
        "    vectr = np.mean([word_embeddings[words] for words in preprocess(s1)],axis=0)\r\n",
        "    return vectr\r\n"
      ],
      "execution_count": null,
      "outputs": []
    },
    {
      "cell_type": "code",
      "metadata": {
        "id": "kF0a53wBGSsv"
      },
      "source": [
        "def find_similar(cos_matrix, vector, top_n = 5):\r\n",
        "    cosine_similarities = cosine_similarity(vector, cos_matrix).flatten()\r\n",
        "    related_docs_indices = [i for i in cosine_similarities.argsort()[::-1]]\r\n",
        "    return [(index, cosine_similarities[index]) for index in related_docs_indices][0:top_n]"
      ],
      "execution_count": null,
      "outputs": []
    },
    {
      "cell_type": "code",
      "metadata": {
        "id": "mNhnBn2TGTfQ"
      },
      "source": [
        "def collector():\r\n",
        "  input_id = int(input('enter document id (must be numbers): '))\r\n",
        "  input_name = input('enter document excerpt or title: ')\r\n",
        "  print('input: {} \\t {}'.format(input_id,input_name))\r\n",
        "  return input_id, input_name"
      ],
      "execution_count": null,
      "outputs": []
    },
    {
      "cell_type": "code",
      "metadata": {
        "colab": {
          "base_uri": "https://localhost:8080/"
        },
        "id": "6AmSIddhJFoa",
        "outputId": "6bbfbec9-3d08-40fd-bcfe-8ddcb8d718c9"
      },
      "source": [
        "input_id, input_name = collector()"
      ],
      "execution_count": null,
      "outputs": [
        {
          "output_type": "stream",
          "text": [
            "enter document id: 12345\n",
            "enter document excerpt or title: yessir!\n",
            "input: 12345 \t yessir!\n"
          ],
          "name": "stdout"
        }
      ]
    },
    {
      "cell_type": "code",
      "metadata": {
        "id": "cxz7XMTcC9fz"
      },
      "source": [
        "output_search = []\r\n",
        "output_score = []\r\n",
        "output_id = []\r\n",
        "output_result = []\r\n",
        "for index, score in find_similar(sentence_vectors, test_vec.reshape(1, -1)):\r\n",
        "        output_score.append(score)\r\n",
        "        output_search.append(MS_top['Sentence'][index])\r\n",
        "        output_id.append(data[data['doc_name'].str.contains(MS_top['Sentence'][index])]['id'].iloc[0])\r\n",
        "        output_result.append(data[data['doc_name'].str.contains(MS_top['Sentence'][index])]['doc_name'].iloc[0])\r\n"
      ],
      "execution_count": null,
      "outputs": []
    },
    {
      "cell_type": "code",
      "metadata": {
        "colab": {
          "base_uri": "https://localhost:8080/"
        },
        "id": "7KQaIMgAbyOb",
        "outputId": "3fba8cf4-6789-42af-f068-593812259e45"
      },
      "source": [
        "output_result"
      ],
      "execution_count": null,
      "outputs": [
        {
          "output_type": "execute_result",
          "data": {
            "text/plain": [
              "['I caught up with Lisa quickly and grabbed her, throwing her over my shoulder while she thrashed and screamed, laughing her ass off. Hannah was taunting me getting teasingly close so I snapped my hand out and clamped it around her wrist, making her squeal. I carried Lisa and dragged Hannah into the water and then threw Lisa in, laughing as she coughed and spluttered, wiping water out of her face. She grinned at me and grabbed my hand pulling me into the water too and before I knew what was happening the other two girls jumped on me too. I heard my mom shout back, still laughing. “You girls knew this would happen, you deal with the consequences!”  I burst out laughing. Well I guess that’s what I get for falling asleep in front of three Peters girls, I should have known better! “You’d better run!” I shouted, streaking after one of them at random. It turned out to be Lisa so I smiled and pushed myself after her, making her scream at my mom for help, “Mom! Make him leave me alone!”  The three girls all got up and ran in different directions, laughing their asses off.  “Language, Nathaniel!” my mom scolded, giggling to herself.  “What the f*ck?” I shouted, my mouth dropping open in shock.  They’d drawn on me while I was asleep? Little bitches!  Slogans of: “Rosie’s bitch” with an arrow pointing down to the waistband of my shorts. “If lost please return to the local strip club” and “Momma’s little soldier” with some very crude drawings, were all over my chest and stomach. A big “You got Owned, by P, H L” and a big smiley face, was scrawled on my forearm.  I looked around at my stuff that I brought out here and something black on my chest caught my attention. I frowned and looked at it only to see my whole chest was covered in marker pen.  Hannah shook her head, looking at me innocently. Lisa choked on her laughter and turned away. I looked at them warningly, if this was some sort of joke….. Oh crap, they had better not have stolen my phone and text Rosie something!  “What are you three up to?” I asked, leaning up on my elbow. Actually come to think of it, why is Lisa there, laughing with them to? Shouldn’t she still be ignoring me for another few hours, this was a pretty quick turnaround for her. They were definitely up to something.  Ok, what the hell is this about?  They all exchanged glances but didn’t say anything, just carried on laughing. I yawned, I was still tired because of being out late last night, so I decided to have another hour of sleep. My dad walked past, carrying another cooler, probably refilling the drink supply. As he looked at me he started to laugh too. He high fived Paige on the way past, and then sat next to my mom on my other side, still chuckling to himself.  “What’s wrong with you guys? You look like the three witches in the opening scene of Macbeth,” I stated, laughing at my own joke as I settled back down on the towel.  I woke up to someone nudging my arm, I flicked my eyes around wondering where I was, then remembered I was at the beach. I smiled at Paige, Hannah and Lisa, who were all sitting there looking at me, giggling quietly. What the hell is that about? Oh god please don’t tell me I had some pervert dream and I’ve woken up with a boner! I jerked up slightly, putting my hand over my crotch, checking, but I was safe it was ok so I relaxed.  Three hours later and we were all at the beach at the end of my parents property. I loved the beach, I grew up here and I would love to move out here one day and have a house just like my parents, perhaps that’s just wishful thinking though. My mind flicked to Rosie, I bet DJ would love it here, building sandcastles. I smiled to myself and laid back on the towel, sunbathing. I’d been talking to Paige for the last hour about Rosie, we also caught up about her college as she’s in her final year so she has some exams coming up in a few months. It was nice just to catch up and chill with my family.  I started laughing too and just put my head in my hands, why did I have to have such a crazy mother?  Rosie was laughing so hard that I had to just listen to it for a minute until she calmed down enough to talk to me. “He’s giving me the stink eye….” she said, repeating my mother’s words, bursting into another fit of giggles.  I groaned and put the phone back to my ear, wincing slightly. “Rose, I’m so sorry! She took the phone before I even realised what she was doing. She’s like some freaking ninja woman, I didn’t even hear her come in the room,” I moaned, squeezing my eyes shut at how embarrassing that was.  She grinned and slapped me on the chest as she walked back out of the kitchen and onto the patio, exclaiming to my father: “Oh Evan, she’s so adorable!”  She put the phone back in my hand and I put it against my chest so Rosie couldn’t hear me, shaking my head in disbelief at what just happened. “What the hell was that? If you’ve scared her away from me mom I swear I’m gonna be so pissed I’ll have someone else do my laundry next month!” I threatened, frowning but trying not to laugh at the same time.  She rolled her eyes at me, “Ok, I’ve got to go, he’s giving me the stink eye for taking his phone.” She laughed again and I could hear Rosie laughing through the line too. “I’ll talk to you again soon and we should meet up…….. Absolutely. Can’t wait. Bye sweetheart!” my mom sang, still grinning happily.  I couldn’t take anymore, I held my hand out, glaring at her. “Enough now! Say bye and let me talk to her!” I said sternly.  I gripped my hands in my hair, as she spoke. “I’m Dawn, Nate’s mom……It’s nice to talk to you too, sweetheart……Yeah, he’s behaving.” She shot me a smirk and nodded, giving me a thumbs up sign, and I just wished the ground would open up and swallow me. She started laughing at something Rosie had said, “So you two have been together for a couple of weeks from what I’ve been told……I’m so pleased……Well if he does then you just tell me and I’ll give him a slap for you.” She laughed again, her eyes twinkling. “Oh really?.......Well I wish you would have come today with him……. Yeah, we’ll do that another time…….Absolutely sweetheart…….. I’m just glad he’s found someone that he cares about.”  Oh crap, please let this be a dream! Please let my mother really not have just stolen my phone and be talking to my girlfriend who she’s never even met! Rosie’s going to think my mother is freaking crazy! Hell, she is crazy based on what she’s doing right now!   “Hello? Is this Rosie?” she asked, grinning like a mad woman.  “Mom! What the hell?” I shouted, trying to grab for the phone, but she turned to the side and started to talking.  I jumped and looked around as my mom put the phone to her ear. Holy crap, what the hell is she doing? I moved to snatch the phone off of her before she could say something to Rosie and ruin everything for me, she could start cooing about her ‘new grandchild’ and scare Rosie away from me by being to forward, putting too much pressure on her or something.  “Sounds good. So, are you-” she started, but the phone was snatched out of my hand before she could finish.  I smiled, what on earth do I say to that? “Err….. ok. We’ve just eaten and I think we’re going to the beach in a bit,” I said shrugging and skimming over the whole ‘I have a grandchild?’ hysteria that came from my mom.  Rosie came back on the phone after a minute, “Sorry about that, I’m back now,” she mumbled. “So how’s the visit with your parents going?” she asked.  She laughed and then I heard a little voice off of the line. “Momma, can Auntie Sophie stay for lunch?” DJ asked her. There was muffled talking off of the phone, Rosie telling him that Sophie could stay if she wanted to and that they’d go to the park after. I smiled at the soft tone to her voice when she spoke to him, she really sounded like a great mom, he was a lucky kid.  I grinned and shook my head and then remembered that she couldn’t see me. “No if I was using my words, it would have been, hot loud little drunken brunette,” I stated.  She laughed quietly, “Loud little drunken brunette…… those sound more like your words, Nate.”  I laughed, “Well you did almost drain the rum from the bar last night, I heard the barman putting in a fresh order for a new case because the, and these are his words not mine, the loud little drunken brunette had made him a fortune,” I joked.  She groaned, “I feel bad. Why did I drink all that last night? Man, I honestly feel like a pile of……junk, right now,” she said, stumbling over her cuss word, I’m guessing DJ was within earshot.  I smiled at the sound of her voice, she was definitely suffering, her tone was hushed as if she didn’t want to speak too loudly and hurt her head or something. “Hey, Stripes. How are you feeling today?”  “Hey you,” she answered, after a couple of rings.  Instantly my mind flicked to Rosie again and I felt the smile creep onto my face, I couldn’t help but wonder if she was suffering today after all those Rum and Cokes she put away last night. I pulled my cell phone out of my pocket, frowning because it didn’t have much battery and I hadn’t thought to bring my charger, oh well, it’d be fine. I dialled her number quickly and held my breath waiting for her to answer.  I nodded, “Yeah, in a little while. Want to go hang at the beach or something in a bit?” I asked. She nodded and kissed my cheek as she walked out leaving me in the kitchen on my own.  “I missed you, Nate. You’ll tell me all about Rosie, right?” she asked, looking at me hopefully.  I batted her hand away, pretending to be annoyed as I ran my hand through my hair. “Don’t touch the hair, you know the rules,” I joked, making her laugh.  Paige laughed, “I like seeing you this happy, Nate. Don’t let mom get to you with her craziness, ok? You know she’s just excited that you’re all grown up,” she teased, ruffling my hair as a joke.  I grinned, “I didn’t see it coming either. She hit me like a freaking truck.”  “So you have a girlfriend, and she has a child, huh? Didn’t see that coming,” she admitted.  I slung my arm around her shoulder and pulled her to my side, kissing the top of her head. “Yeah I’m ok, little sister.”  It wasn’t her though, it was Paige. “Hey, you ok?” she smiled.  Someone touched my back, making me jump because I hadn’t heard anyone else come in. I silently prayed it wasn’t my mom, I just needed a minute of peace to let that little rant of hers sink in.  As I walked off I could hear my dad telling my mom to chill out and I shot him a grateful smile over my shoulder. I put the plate in the sink and took a couple of deep breaths, that was all just too much, there was me expecting an argument because my girlfriend was a single mother, and instead my mom is already cooing over the child that I hadn’t even met!  “I’ll be right back,” I muttered.  I looked at my dad for help and he just shrugged, shaking his head telling me he wasn’t getting involved, that I had to calm her down on my own. I groaned and picked up my empty plate, wanting to escape the madness for a little while.  “What does he look like? Please Nate, I need details!” she begged, sitting down again and looking at me expectantly.  “He’ll call you crazy if you keep going on like this,” I joked, laughing.  “You said it was a boy? How old is he? What’s his name? Go home and get them both!” my mom cried, with wide excited eyes. “Oh I can’t wait to see them! A grandchild! Oh I wonder what he’ll call me….. Grandma? No, too old. Nanny? Oh I like that one!” she beamed, wiping the tears from her eyes again.  “Look, it’s early days, ok? I’ve only known her a short time so let’s not get carried away here….” I suggested, shaking my head still laughing.  I couldn’t help but laugh, my mom hated Margaret, they had a lifelong competition going. Margaret was one of those people that had to upstage you, whatever my mom had done, Margaret had always done it better – according to her anyway – so the fact that Margaret had a grandchild already was something my mom couldn’t compete with.  “Nate! A baby! Oh my gosh, I can’t wait to tell the girls at bowling club! Margaret’s been rubbing it in my face that she has a grandchild already. Just wait until I wipe that smug look off of her face on Monday!” my mom chirped, grinning like a crazy person.  “Well….. it’s not…..it’s early…..” I started, unsure really how to answer that comment.  I flinched slightly at her reaction, which made both Paige and my dad laugh even harder.  “I have a grandchild?” she shrieked, clapping her hands and jumping out of her chair squealing excitedly.   My dad bust out laughing, the same as Paige did. Hannah’s mouth dropped open in shock, Lisa just continued to bob her head to the beat of the song she had blasting through her ear phones. And my mom…...well, her reaction was different altogether.  “Rosie has a little boy,” I said quietly, kind of hoping that they wouldn’t hear me. They did though.  I took a deep breath and wondered how my parents were going to react to knowing that Rosie had a son. Would they think bad of her for it? I really hoped not because I knew that would make me angry if they all started bashing her for being a single parent, and I didn’t really want to be having that argument with them.  “Commitments?” Paige asked, looking curious.  I smiled apologetically. “I can’t, Rosie has….err…..commitments, so she can’t just drop everything to come out here at will,” I said awkwardly.  “Well, what about tomorrow instead?” she suggested.  I laughed, I would love to do that, but right now Rosie was probably nursing the hangover from hell, it was only ten in the morning, and besides she had DJ this weekend. “I can’t, she’s busy today,” I replied, shrugging and ignoring my mom’s disappointed face.  My mom was beaming at me, “So, when do we get to meet her? Why didn’t you bring her with you today? Oh Nate, go home and get her and bring her back with you!” my mom begged, looking at me with the pleading eyes that she used on my dad all the time. That was where I learnt my puppy dog face from, by mimicking my mother.   When my dad looked at the photo he whistled appreciatively, “Nice job there, Nate!” he congratulated me, slapping my shoulder proudly. I laughed and rolled my eyes.  I laughed awkwardly as I rubbed the back of my neck, ok I wasn’t expecting her to get this excited about it! “Yeah, she’s awesome,” I muttered, stuffing down the rest of my fried breakfast as they all passed my phone around.  “Oh!” she squeaked as she looked at the picture, she was crying now and I kind of started to get a little freaked out. “She’s so beautiful, and look at you two together…..awww….this is…..aww….” she stuttered, swiping at the happy tears that continued to fall.  My mom made an excited little whooping noise and I started firing off the questions so fast that I almost regretted telling them about Rosie. What was her name, where did we meet, how long had I known her for, what did she do for a living. When she asked what she looked like, I pulled out my phone and found the photo that Rosie had taken of us last night. I handed the phone to my mom, who was so eager to see it that she practically snatched it out of my hand.  “That’s because I’ve never met anyone like her before,” I admitted, shrugging.  She gulped and shook her head, as if she was trying to work something out. “No…..it’s just…..you’ve never talked about a girl before,” she said, looking at me proudly.  “Is it really that shocking that I have a girlfriend?” I asked curiously.  Hannah was muttering about me under her breath, Lisa still had her earphones in and was pretending like I wasn’t even here, but Paige caught my eye and grinned at me. I looked back to my mom to see she was still looking a little shocked.  I grinned, “I’m the eldest, you have to listen to me. Plus, I’m the only boy that means that after dad, I get final say.” I told her. Mom cleared her throat at that statement, so I quickly backtracked. “And after mom of course,” I added laughing.  “You’re such an ass sometimes, Nate. Double standards or what? How is that fair?” she asked, frowning.  I smirked at her, “I like the saying: ‘do as I say, not as I do’” I stated, trying not to laugh.  “You get to have a girlfriend but yet you go off on one if any of us even talk to a guy?” she asked, looking at me, clearly annoyed about it.  A loud crash on the table got my attention away from my - slightly freaking out – mother. I looked over at Hannah to see that she’d slammed her hand down on the table and was glaring at me angrily.  I laughed again and shrugged. “Yeah she’s great, I really like her,” I said honestly.  “A g…girl?” my mom stuttered, looking like she had tears forming in her eyes.  I looked at my mom to see she was staring at me with wide eyes and her mouth hanging open in shock. I laughed at her, was it really that shocking that I had a girlfriend? I’d never had a serious one before so I’d never even admitted to them the casual flings I had with girls, as far as they were concerned this was the first girl they had probably ever heard about. Maybe she secretly thought I would never settle down, but I was almost twenty-six now, I guess everyone’s bachelor time comes to an end sooner or later.  I grinned like an idiot at the thought of Rosie, I nodded and my mom gasped. “Yeah actually,” I admitted proudly.  “Any girls on the scene, Nate?” my dad asked, smirking at me knowingly.  During breakfast talk turned to what I’d been up to lately, how were the Taylor’s and little baby Cameron. My mom adored Ashton, he didn’t really have any family of his own so I think she kind of adopted him a little when we became friends at the academy. When we got time off from training we’d come stay here, chill at the beach and she’d pamper us both like crazy, she loved Anna now too.  I laughed and pulled her into a hug, when I let her go, Paige grabbed me, wrapping her arm around my waist. She gasped, looking at me with fake horror, “You lost weight!” she stated, doing an excellent impression of my mom’s voice. Everyone burst into laughter and I felt myself relax, it was so good to be home.  She sighed and nodded, looking somewhat reluctant about it and I felt myself relax, once I’d checked him out he’d know not to mess her around, then everything would be fine. “Ok, I’ll ask him over tonight,” Hannah said, shrugging. She put down the cutlery she was holding and stepped closer to me, “So now that the lectures over with, do I get a proper hello?” she teased.  “Fine. But I want to meet him before I leave,” I countered, looking at Hannah sternly so she knew there was no discussing it, this wasn’t up for debate.  I frowned, I still needed to see the little punk, I don’t care if he was a ‘sweetheart’ or not, he needed to know that if he hurt my sister I’d hurt him twice as bad in return. I flicked my eyes to my dad, he was just standing there, watching the show with an amused smile on his face. He looked relaxed about it, he shrugged and shook his head slightly, in a ‘leave it alone’ gesture. I sighed, my dad always was laid back. People say that I was exactly the same as him, that I got my attitude from him, I know I got the looks from him that’s for sure. I was a spitting image of my dad, same build, same blonde hair and blue eyes, but I had my mom’s determination. When she set her mind to something she got it no matter what it was, she worked and worked until it was hers, and I was just the same.  Hannah laughed, “Well it’s not the first guy I’ve dated, and Robert is a sweetheart so you’ll leave him alone!” she said sternly as she crossed her arms over her chest.  But these were my baby sisters, they would always just be the little girls in pigtails that I used to take to the park and push on the swings, the little girls I used to play hide and seek with for hours on end because Paige was crazy obsessed with that game as a kid. It was too hard to let go of the big brother act that I’d done for so long and let them grow up, I didn’t want them to get hurt. I’d seen things that I didn’t ever want them to have to see, I’d met people that I didn’t ever want them to have to meet. I knew what the world was really like, my job opened me up to just what type of people there were out there, but I didn’t want them to know anything about that. I guess I was always hoping that I could protect them from everything.  She laughed and shared a knowing look with Paige who was standing there to and it suddenly dawned on me that there was probably a lot of boys that they’d been seeing and I didn’t know about them. My mind wandered to what I was like as at their age – hell when I was Lisa’s age even – I was doing things that would make the girls blush, who was I to judge?  I groaned, “I hoped it was,” I admitted.  She rolled her eyes, “Nate, I’m almost twenty-two, you can’t tell me what to do. You think this is my first boyfriend?” she asked, smirking at me.  “Hell yeah she did! Why is this the first time I’m hearing about this guy? Call him and invite him for breakfast,” I ordered, pulling my cell phone out of my pocket and holding it out to her.  She looked up at me and groaned, looking at me pleadingly, her eyes flicking back into the kitchen behind me. “Mom! Did you tell him about Robert?” she whined, pouting at me.  “Hannah!” I shouted, as I burst through the door.  I nodded and headed over towards the door, needing to go find out about this little punk that dare touch my little sister. I thought we all made a pact that they weren’t allowed to date until they moved out of home! I guess that was always a little unrealistic and I did make each of them take that oath on their tenth birthdays, so there’s a good chance she may have forgotten……  She sighed and shook her head. “Hannah.”  “Who?” I asked again, when she didn’t answer.  “He’s a nice boy before you start! They’ve only been seeing each other for a couple of weeks but she’s liked him for a while…..” she trailed off laughing, probably at me, considering I was instantly starting to worry about guys – like me – dating my sister. I knew exactly what kind of guys there were out there, I was one of the people I would warn my sisters about, guys that used people for their own interests, guys that just wanted to have fun.  “Who?” I demanded.  She smiled knowingly and I groaned. She didn’t need to say it, I knew what that smile meant. One of them was dating.  “And do I have any big brother duties to perform before I leave? Have they been skipping school? Stealing? Do I need to make some threats of castration to boys hanging around, or run some security checks?” I asked curiously.  I smiled, I hadn’t seen my sisters for a while, especially Paige. Last time I came here she was off for the weekend with friends, she was the one I got on with the most, we were the closest in age, I guess that makes a difference. She was twenty-three, the same age as Rosie.  Mom smiled, obviously catching on to my change of subject. I grinned sheepishly as she rolled her eyes. “They’re out back, setting up the table on the patio ready for breakfast,” she said, nodding towards the back door.  She nodded and looked at me longingly and I knew exactly what was coming…. ‘When are you going to settle down, Nate?’ I quickly spoke before she could say it. “Where’s dad? Hannah? Paige?” I asked.  “Really?” I asked, pretending to be interested, in reality I didn’t really care, Anthony was a dick.  Married? The guy was only 21! Why the hell would he want to get married at 21? For some reason my mind flicked to Rosie, which made me frown and shift on my feet awkwardly as I attacked another slice of bread. Stupid brain.  “We’re good. Let me think what’s happened since I spoke to you in the week……” she trailed off, pursing her lips thinking about the weekly events. I spoke to my mom at least once a week, I guess you could call me a momma’s boy but I didn’t care what you labeled it, my mom was awesome and that was all there is too it. She brightened and looked at me as she suddenly remembered something. “Cousin Anthony’s getting married!” she said, nodding enthusiastically.  I grinned, my mom only called me Nathaniel when she was telling me off about something. “She loves it really. So how have you all been?” I asked, picking at the bread that she’d buttered on the side. My stomach was growling at the thought of my mom’s cooking.  Mom laughed and shook her head, putting more sausages in the pan to cook. “Leave her alone, Nathaniel!” she scolded, rolling her eyes.  Her scowl deepened and she grabbed the carton of orange juice from the fridge, turning and stalking out of the room grumbling about me under her breath. This was the usual routine, she’d hate me for a couple of hours, and then by the time I left Monday morning, she’d be hanging all over me asking me when I’m coming back next, begging me to let her come and live in LA with me so she could see some city lights. She was only seventeen, and as baby sisters go she was a pain in the ass, but I loved her too much to complain about it.  I laughed and raised one eyebrow at her, her strops were getting worse. “Stop cussing! Any boyfriends I need to know about? I could make a trip there and break some legs before I leave,” I said, smiling sweetly.  She gasped and looked at mom. “I’m not washing it out just because golden boy says so! Tell him to leave me alone mom, he’s only been here for five minutes and he’s already pissing me off!” She crossed her arms over her chest defensively.  “Wash that crap out of your hair before I come next time,” I joked, putting on a stern face.  She snorted, “Whatever,” she scoffed, turning back to the fridge.  I smirked at her and nodded, “Yeah, you know it. Got a hug for me?” I asked, holding my arms out to her, already knowing she wouldn’t do it. She only ever came to me if she needed something, I guess I was a little too strict for her liking. When I wasn’t here she had run of the house, as youngest of three daughters, she got her own way over everything from my parents.  “Jerk!” she hissed.  Lisa nodded at me in acknowledgement, not taking her earphones out as she hummed along to the heavy metal crap she was listening to. I waited until she turned her back, looking in the fridge before I grabbed her from behind and span her round making her squeal and laugh. I put her down and she punched me in the arm, scowling at me.  I saw movement from the corner of my eye and my youngest sister Lisa walked in. As usual she was wearing baggy jeans and a band tee, too much eyeliner and black nails. Her blonde hair had thick jet black streaks in it. Hmm, they’re new! I flicked my eyes to my mom wondering why she let her do that to her hair, she just shrugged in response.  I looked her over to make sure everything was ok with her, I hadn’t been here for five weeks because everything was a little crazy at the moment with Cameron, Rosie and my job. My mom looked just the same as she always did, her mousy brown hair pulled back into a messy bun, her light blue eyes sparked with happiness. She was wearing her usual attire of shorts and a loose fitted top, designed for comfort but she still looked classy and beautiful even though she was pushing fifty five now.  I grinned, “I’m doing really good actually,” I admitted.  She smiled and linked her arm through mine, pulling me into the kitchen where she was already cooking up a storm ready for my arrival. “I missed you too. How have you been, you good?” she asked, eyeing me worriedly.  I nodded, “I missed you,” I said honestly, ignoring her comment, I had a nice girl and she was going to flip when I told her about Rosie! I’d not told her on the phone because at first I wanted to make sure it was working out, I didn’t want to tell my mom about her and then Rosie got bored of me, my mom would be hounding me about her forever if that happened. Since we became exclusive though I’d be desperate to tell my mom, but I wanted to do it in person, so I could see her face when I told her I was totally crazy about a girl.  “You really need to find a girl to look after you and feed you properly, Nathaniel!”  I pulled back and grinned as I shook my head. That was always the first thing out of her mouth, followed by…..  As I walked out of the room I was tackled into a hug by my mom, I laughed as she squeezed the life out of me. “You lost weight!” she griped, as she patted my back and sides as I hugged her.  I grinned and headed inside, shouting that I was here as soon as I walked through the door. I headed straight to the laundry room, dumping my bags there for my mom.  I made the short drive to Long Beach to my parents beach house. At that time of the morning I was there in under an hour. As I pulled into their drive, I smiled, I loved coming here. The smell of the air, the white house that I grew up in, the tree that I used to use to climb out of my bedroom when I wanted to sneak out……  I chuckled to myself quietly as I thought about our night out last night, Rosie definitely made an adorable drunk. I wonder if she’ll remember saying those things to me when she’s sober? I hoped she did, I definitely wanted to do that with her if she was up for it, I guess I’d find out when I saw her in a couple of days. I still hadn’t ruled out driving home Sunday afternoon so I could see her in the evening, instead of my usual routine of going straight to work from my parents on Monday morning. I’d call her in a few hours and see if she wanted to see me or not.  When my alarm went off early in the morning, I groaned and looked at it. Why had I set it for seven again? Then I remembered, I was going to my parents today. I reluctantly pushed myself out of the bed and headed for a quick shower before I grabbed my overnight bag and all of my dirty clothes that I had bundled into two trash bags. I headed downstairs so I could hail a cab to take me to Ashton’s to get my car. Usually I would have walked but I was too tired after only having a few hours sleep.   Chapter 15     *****Hey ok so another chapter, PLEASE ONLY VOTE FOR THIS ONE IF IT EITHER MAKES YOU LAUGH, OR CHUCKLE QUIETLY TO YOURSELF!!!! This story is in the Watty Awards in the Humour category – so it HAS to be funny, so only vote,like,tweet IF you laughed or at the very least had a grin like an idiot and snorted through your nose*****   Copyright © 2011 Kirsty Moseley  Banner made by FeistyKRox - awesome, right??? Thanks honey!!!! &lt;3&lt;3 COMMENT, VOTE, LIKE, TWEET – BUT ONLY IF IT MADE YOU LAUGH!! &lt;3  Gotta love those Peters girls, right????  Ok so I LMAO writing that part at the end…… hope you laughed a little too, if not then I guess I have a warped sense of humour! *****************************  I threw my phone on the side and jumped out of the bed, streaking across my room and yanking the door open. “MOM, DAD, I NEED TO BORROW A CELL PHONE! IT’S AN EMERGENCY!” I shouted, not caring if I woke up the whole house.  I HATE karma!  “Nooooooo! No, no, no, no, no!” I shouted, sitting up and hitting the buttons angrily, trying to get it to come back on. This cannot be happening to me! Right now? It had to happen right at that very moment? Damn it, can’t a guy catch a break?  Confused, I looked at my phone, only to see that the screen was black. What the hell? I pressed a few buttons but nothing happened. Oh my freaking god, had my battery run out?  More silence.  “Rose, you ok?”  Silence.  I waited for her to continue, but she didn’t. I frowned, “Slip….” I prompted.  She giggled, “Oh really? Actually, now that you’ve mentioned it, Player, it is getting warmer in here…. Maybe I’ll just slip-”  Ok, turn your game on, Nate! Don’t drop the ball, concentrate! “If you think you’re feeling hot right now then just wait a few minutes until we get going, I’ll soon have you out of those panties…..” I murmured lustfully. I could actually picture it, I’d always had a good imagination so this was the perfect thing for someone like me.  Of all the girls I could have chosen, I chose a hot little kinky girl, could my luck get any better than this right now? I pumped the air with my fist and looked at the ceiling, silently mouthing a thank you up there, because someone was certainly watching over me right now.  She giggled, “Well….. it was actually pretty hot tonight, so I went to sleep in a tiny pair of pink lacy panties and a skin tight pink tank top. What about you, Nate? What are you wearing right now?” she purred, sounding so seductive that I could barely stand it.  “Sure, if you want to that is….” I mumbled, actually crossing my fingers that she would agree to it.  No way. She wouldn’t, would she? Was this seriously about to happen? Was I already asleep and dreaming this up or something, or was my girlfriend seriously considering having phone $ex with me? I flopped back on the bed, closing my eyes as a thousand images of her bombarded my brain at once.  Holy. F*cking. $hit!  “Right now? On the phone?” she asked, sounding quite excited about it, all traces of sleep gone from her voice now. Wait, she was actually considering it? Did she not realise I was joking?  I needed to take it back quickly. Make this right, apologise and just ask if we could pretend like I never said anything. I sat up and gulped, starting to panic. I opened my mouth to apologise, when she spoke first.  Damn it, I’m such a freaking moron! I slapped my palm on my forehead angrily, gritting my teeth.  There was silence on the other end of the line and I felt the smile fall from my face, shit, I’d pushed it too far. She was drunk when she said it so she either didn’t remember saying it to me – in which case she just thought I was a kinky pervert right now. Or, she just wasn’t into it after all and I had just scared her away from me.  “Will you talk dirty to me?” I tried not to laugh as I mimicked her words from the night before.  “Yeah?”  I grinned, “And you’re already in bed so my timing is perfect,” I teased, trying to contain my excitement. “Rosie?”  She laughed, “Considering you woke me up, I’m wearing pyjamas,” she answered, playfully.  I grinned because my girlfriend was so damn awesome that I was allowed to wake her up after midnight and she didn’t even care. “Sweet,” I chirped. Ok, time for some fun. “So….” I dropped my voice down, trying to sound sexy, “What are you wearing?”  “No, it’s ok. I’m awake now anyway,” she said easily.  “Want me to go and let you get back to sleep?” I asked, praying she’d say no and that I could talk to her for a few minutes.  She laughed quietly, “Goodnight then, Nate,” she joked, pretending she was going to hang up.  I flicked my eyes to the alarm clock, wincing slightly, but she didn’t sound angry with me. “Yeah, it’s 12:11am.” I felt a little bad at the fact that I woke her up, but I hadn’t spoken to her for hours and I just needed to hear her voice again before I went to sleep. “Sorry, I just really wanted to say goodnight.”  “Nate, do you know what time it is?” she asked, her voice all husky and thick with sleep.  I closed my eyes and hoped that she would say yes. Instead of texting me back she called me. I grinned when her number flashed on my screen, her picture appearing there making my mouth water as usual.  ‘Stripes, R U awake? Can I call U?’ I sent.  I decided I could text her and see if she replied, hopefully she would still be awake, if not then a text was less likely to wake her than a call. She wouldn’t shout at me for that, would she?  I sat on the edge of my bed fighting with myself as to whether I could call her or not. I really wanted to speak to her again, I hadn’t spoken to her since this morning, and I’d only text her twice so I was already in some sort of pussy whipped withdrawal state.   “Guys, I’m going to bed. See you all in the morning!” I called, jogging back to the house. Was it too late for me to call her? What if I woke her up, or even worse – DJ? She’d kill me for sure, wouldn’t she?  When we got to them he walked straight up to Hannah, she was looking at me hopefully, I gave a small nod of approval and glanced down at my watch to see what the time was. It was after midnight. I jumped, slightly panicked. I hadn’t realised it had gotten so late and I was desperate to speak to Rosie.  He laughed and we made our way back over to them. When we rounded the corner I could see the girls watching us curiously. Then I remembered that I’d forgotten to say something important. I smiled and leant closer to him, “Oh and Robert? If you get my sister pregnant, I’m going to tear your balls off and shove them down your throat. Ok?” I asked, smiling so that Hannah wouldn’t know I was threatening him again. He gulped and nodded so I patted him on the back. “Awesome, glad we understand each other.”  I laughed, “Yeah we all have it. You’ll get used to it eventually,” I assured him. I nodded back to the door so he knew we could leave. “Come on then, lets get back. If I keep you over here any longer Hannah going to use the screechy voice and it makes my ears bleed.”  He laughed nervously, “Right. You know, you and Hannah have the same sense of humour,” he said nodding, relaxing now.  I gripped his shoulder. “That’s good, because hiding bodies really isn’t my forte!” I joked.  He nodded, “I really like your sister, Nate,” he said quietly.  He gulped, his eye twitching slightly as he shifted on his feet again. I assessed him to see if he was going to run. If he still wanted my sister after I’d just threated that, then maybe he deserved her.  “Ok so you seem like a fairly nice guy so I’m going to allow you to continue seeing my sister,” I said, nodding slowly, watching as his face relaxed slightly. I had a feeling that if I tried to keep him away from her, then Hannah would kick my ass, they did seem well suited. “But….” I added, raising one eyebrow. “I’m just going to say this, and leave you to think about it. Thanks to my training I can shoot you dead from hundreds of yards away. If you try to run, I can find you wherever you go, I have resources beyond your comprehension. If you hurt my sister, I swear, I will hunt you down and tear you limb from limb before I watch you bleed to death.” Dramatic I know, but he needed to understand I was serious.  He shifted on his feet nervously as I stood up and walked closer to him, his eyes flicking to the door again. I was suddenly wondering what Hannah had been telling him about me, he looked terrified, so she probably told him I was going to hurt him or something.  “Right,” I muttered sarcastically.  He shook his head, “N….no?” he stuttered, making it sound more like a question so I took that as a yes, he’d already had sex with my little sister. Great another thing to worry about……pregnancy. I guess that was more mom’s department than mine so I’d let her deal with Hannah.  “Yeah, about that……. I’ll always be worried. That’s my baby sister out there that you want to put your dirty hands on. Hell, maybe you’ve already put your dirty hands on her,” I suggested, flicking my eyes up to his face.  Robert nodded, his eyes flicking to the door. “Yeah, but before you say anything, I just want you to know that I really like your sister. I’ve liked her for a long time and we just want to see how it goes. You don’t need to be worried…..” he trailed off, watching as I tapped the hammer into the palm of my hand, trying to look thoughtful.  I laughed, “Let’s get this over with, we both know we’re not here to get wood, am I right?” I asked, cocking my head to the side as I sat on the counter, playing with my dad’s hammer that he’d left on the side.  “So…..where’s the wood stored?” he asked, politely, when I didn’t say anything.  He nodded and stood up, looking slightly pale. I’d made sure to drop into the conversation tonight a few things about my job but by the look on his face he knew what I did for a living anyway, and he was definitely scared of me. I matched my pace to his and we walked towards the workshop, when we stepped in through the door he stopped and looked at me curiously.  I smirked at her, this was happening with or without her approval so she just needed to be quiet. “We’ll get some more in from the workshop round the back. That way dad won’t have to replace what we took tomorrow, right Robert?” I asked, raising one eyebrow at him.  Hannah shook her head fiercely at me, “We have plenty of wood right here, Nate,” she hissed, nodding at the full basket next to the table.  Right then I think it’s time to talk to the little punk and then I can go call my girl. “Hey Robert, want to help me get more wood for the burner?” I asked, nodding at the open fire we had on the patio.  After a couple of hours of laughing and joking around, my parents stood up. “Right then, we’re going to bed,” my dad said smirking to himself as my mom smiled at him. Eww.… parent $ex, gross! I shuddered and tried not to get a mental picture, I looked over at Paige at the same time that she shuddered too. We really were so alike.  He nodded gratefully. I watched as she pulled him over to the grill, the pair of them whispering, Hannah shooting little glances over at me warning me to behave. For the rest of the night I watched him, he was all smiles for her, holding her hand, making her giggle and blush. They seemed to have a lot in common, he was a student at her college and they had been friends for the last six months, neither of them wanting to make the first move on the other.  Hannah cleared her throat, “Well how about we get some food, Robert? You hungry?” she asked, obviously trying to ease the tension in the air.  “Yeah,” I nodded.  He gulped and nodded, “Yeah. You’re Nate, right? I’ve heard a lot about you,” he said quietly. I give him his dues though, he was looking me in the eye, well for a couple of seconds anyway before he looked away nervously.  “Robert, is it?” I asked, looking him over slowly, taking in everything from his sneakers to his wrinkled shirt, could he have not made more effort?  Han? What the hell? Who on earth calls someone that? Idiot. His face was moving towards hers, going to kiss her, so I leapt out of my chair and cleared my throat warningly, making him pull back. Paige and Lisa started to giggle again as they watched.  “Hey, Han,” he answered, smiling at her affectionately.  He got to the table and Hannah smiled reassuringly as she walked to his side, taking his hand. “Hey, Robert,” she said, her voice a little tight.  Hurt him, what’s that about? I turned in my seat to see a guy in his early twenties walking towards us, a small scared expression on his face. He was average build, a brown hair, kinda messy, he looked like a student or something. Who was this? Suddenly it dawned on me, this was the little punk that dared to date my little sister! Well he was seriously in for it now because I was already in a bad mood.  Suddenly from the corner of my eye I saw Hannah stop laughing and sit straighter in her chair. She was looking over my shoulder at something. Her eyes drifted to me, “Please don’t hurt him!” she begged, looking at me pleadingly.  She just laughed harder, shaking her head. “Oh Nate, I wish you came here more often…..” she said wistfully.  I pulled out a piece of lettuce from my burger and threw it at her, scowling. “As eldest girl you should have been responsible for the pens!”  Paige moaned, clutching her stomach. “Please can we stop talking about it? I can’t laugh anymore, I hurt all over!” she complained, still chuckling.  I narrowed my eyes at her accusingly. I’d get her back though later, when they were all asleep, they all get theirs! I already had a plan, I just needed to wait until they were least expecting it.  As it turns out my three adorable, loving, sweet sisters, had just grabbed pens at random. Lisa was apparently the one that designed the ‘Rosie’s bitch’ slogan with the arrow pointing to my crotch. Unfortunately for me, she grabbed a black sharpie. Freaking awesome, the guys are going to rip me to shreds about this at work on Monday when they saw it!  I sighed, “But the other two managed to choose washable pens! If this doesn’t come off by Monday……” I whined, I know I sounded like a little girl but I just didn’t care.  She shrugged, looking at me apologetically. “I said I was sorry!”  I groaned again, still rubbing my stomach absentmindedly. “I can’t believe you didn’t check first, Lisa,” I grumbled for the hundredth time.  By the time nighttime came my sides hurt from all the laughing so much. My dad was cooking on the outdoor grill and we decided to all stay outside to eat.  “So, go tell a cop!” Paige joked, kicking water in my face. I grabbed her ankle and yanked her under the water as payback.  “Three against one is hardly fair!” I shouted, laughing as I broke the surface of the water after a three person dunking.',\n",
              " 'I hear it all the time boo! Too bad I ain\\'t got the patience for anyone else\\'s problems!  That got me laughing even through all the pain. It really wasn\\'t that good. I hugged me best friend. I\\'m pretty sure I squeezed the life out of her.   I hung up hastily. Another day, another phone call he ignores.  \"Cleo go and answer the door!!\" I swear I feel like a bloody slave in this house!  I barely had enough time to go upstairs and change when a knock came at the door.  I got to work quickly cleaning the kitchen, bathroom and living room, which wasn\\'t easy since this woman was in the way! When I finished I had sweat pouring all down my face. I was shattered!  Her face immediately darkened and I knew this wasn\\'t good. \"Ehhhh! If you\\'re not a baby anymore then you can go and find a job and start paying rent! Now hurry up and tidy! Uncle Tony will be here in 30 minutes!!!\" She turned her attention back to the tv, where she was watching some poorly edited  film on Nollywood  \"Mum!! I\\'m 17 not 2! Please stop treating me like a baby!\"  Her expression softened and her face lit up with glee, catching me off guard. \"Ohhhhh studying hard for school! Mi bah! (My baby)  Come, let me give you nufwo (breast milk)\" she tried to pull my face to her breasts but I was having none of that.  \"Mum! I was up all night studying for my psychology exam. I fell asleep.\" I replied carefully trying to hide my impatience at her lack of understanding. This woman is like a time bomb, never know when she\\'s going to explode.  \"HMM!!\" She kissed her teeth giving me death glares. Boy if looks could kill!!! \"What have I told you about leaving the house untidy before you go to bed??!\" She questioned, her voice revealing a slight African accent.  I quickly ran down the stairs knowing that if I were to make her wait any longer, my curvaceous black ass would be on the receiving end of a firm beating. Now I may be 17 and taller than this woman, but she will not hesitate to remove that slipper and beat me till the cows come home.  \"AH! CLEO!! Brah ha! (Twi for Come here!)  Hurry up! My mum screamed clearly getting impatient.  \"Cleo Ansah! Come on, tidy up the house before uncle Tony gets here!\" My mum bellowed from the living room. I sighed, mentally pushing all feelings to one side. I can\\'t dwell on it too much. If he can treat me like this then clearly I meant nothing to him! And also-  It\\'s not even the fact that he took my virginity, although I must admit it wasn\\'t exactly how I imagined it would be, far from it actually. It\\'s the fact that he just stopped talking to me. We would speak everyday, 27/7. Even when I had college, we would talk all day between classes and stay up all night. I trusted him with everything, I told him everything. He was my best friend for 3 whole years and he just left me after taking a thing most precious to me.  Unable to contain my anger, I threw my phone watching as it smashed into the wall breaking into pieces. I hate how he\\'s making me feel like this. I feel used, disgusted, hurts but most the most overwhelming of all the emotions, betrayal. I never knew it could hurt this bad. It\\'s been 2 fucking months! 2 months and I haven\\'t heard from him. 2 months since he started ignoring me. 2 months since he took my virginity and dumped my ass like I was worthless.  *Your call has been forwarded to the T-Mobile voicemail service 077-*  My hand started twitching. I knew it was a bad idea but I just couldn\\'t help myself. I grabbed my phone, furiously typing his number.  I should have waited. I shouldn\\'t have given in so easily. It\\'s times like this that I wish there was some way to travel back in time or even listened when my mum said \"don\\'t trust guys!!\"  I stared at my phone as if it were the root of all my problems. Perhaps I had been too eager? They say guys don\\'t like a girl who gives in easily, but since when was I classed as that kind of girl? It\\'s been around 2 months already. I thought about texting him but that hasn\\'t got me anywhere so far. He just ignores those too.  Maybe it\\'s time I just gave up, it\\'s not likely that he\\'s going to call me back, not after what I gave him. I sighed running my hands through my hair frustrated at my situation. How hard is it to pick up a damn phone!?? I felt that pang deep down in my stomach, you know? The one that you feel when you\\'re too hurt beyond words to describe how you feel.  My story isn\\'t exactly your typical one although it does start out with a guy. And I fell for him. Fast.  *Your call has been forwarded to the T-Mobile voicemail service 077-* \"Thank you Nicky. You always know just what to say. Has anyone ever told you that you should become a life coach!\"   \"I know you miss him babe but think of it this way. If he can claim leave you taking your virtue after claiming that he cared about you, then he\\'s really not worth the pain and hassle. Some guys are dogs. You just happened to fall for a bad one but that doesn\\'t mean that there isn\\'t someone out there who can make you just as, if not, happier than he ever could. Don\\'t dwell on the past hunny, move past that wasteman prick. As you said, the sex weren\\'t even that good!\"  Nicole wrapped her arms around me burying me in her warm embrace. I shook my head in response. \"Nothing Nicky, not even a text. It\\'s like he\\'s disappeared off the face of the Earth which I know isn\\'t true because Kenneth said he\\'s heard from him recently and he has the same number, which means that he IS specifically just avoiding me, which makes me sad and hurt that he would do this to me. I don\\'t know what to do Nicky. I miss the friendship that we had.\"  Warm tears started trickling down my face.  \"You\\'re thinking about him again,\" She said pulling me out of my thoughts. She could always tell when I was thinking about him. \"Has he still not called you back?\"  Nicole always knows how to make me smile. She\\'s been my bestest friend for as long as I can remember. We\\'re practically sisters since we grew up together. She\\'s the only person who knows all the explicit details about what happened with HIM.  \"GOOD MORNING BOLTIMORE!!\" We both sang, well screamed, at the top of our voices while trying to munch through bags of Doritos, Oreos and Ribena. This pretty much continued throughout the film. Heck we even sang the songs playing on the credits. \"Girl what you waiting for?? You best put that film on!\" I nestled into Nicky\\'s bed getting comfortable while she put our favourite film on, Hairspray. That\\'s my film right there! No one can even talk about that film!  We giggled at our silliness before raiding the kitchen of all junk food carrying it all up the stairs to her room.  I laughed loudly wrapping my arm around her waist, leading her into the house. \"You know how it is baby. Mans feeling kinda fresh innit! Mans always gotta be lookin fresh!\" I replied poppin my collar.  \"Oooh girl! You looking fine today! I see you going all out to try and impress me! No need baby girl, you had me at hello! She said after finally pulling away.  Oof! I barely had time to blink before she opened the door, running into me with a thud engulfing me in what can only be described as a monster bear hug.  The sun was shining and the air was warm as I made my way to Nicole\\'s house. It was a nice summers day which is always surprising in London and I could hear the kids playing outside In the streets. It didn\\'t take me long to get to Nicole\\'s house considering that she only lives a few roads away from me. I knocked on her door waiting patiently for her to answer!  I put on my electric blue skinny jeans with a white vest top and my black leather jacket. I finished my outfit with my blue and white Jordan\\'s adding some cute silver studs and some accessories. I shoved my long, frizzy black hair into a low bun before grabbing the necessities and leaving the house shouting a quick goodbye to my mum and Uncle Tony.  \"Love you boo!\" We hung up and I immediately started getting dressed.  \"You know I\\'ll be over in 10. See ya sweet cheeks!\"  \"Girl! You need to come down to my house ASAP! Don\\'t want you emotionally scarred after hearing that nastiness!\" Yes people, my mum and uncle Tony are hooking up. Eugh! The thought makes me sick!  \"Nothin much, old man Tony is downstairs. I really don\\'t wanna be here when shit goes down. Eugh!\" I fake shuddered knowing she wouldn\\'t be able to see me but still adding dramatic effect to our conversation.  \"It\\'s all good boo boo! I\\'m at home! What you doing?\" \"Nicole!!! My girrrllllll!! How you do baby boo?!\" I replied, a smile breaking onto my face.  \"CLEEEEEEEEEOOOOOOOOOOOOOOO!!!!!\" She screamed into my ear. I love this girl she always knows how to cheer me up.  I quickly let him in, running away from his intense pervy stare. I flopped onto my bed, no longer feeling the need to call him, but angry at what he did to me. Grabbing the house phone , i felt the need to vent, so I called the one girl that always had my back.  Uncle Tony stood their grinning in all his pervy goodness, his eyes raking over my legs which were  left uncovered by the shorts I was wearing. Ugh he makes me feel sick! I know what you\\'re thinking, pervy uncle checking out his niece, nasty! Don\\'t get it twisted, we\\'re not actually related. We Ghanians call our parent\\'s friend auntie/uncle out of respect, no relation required.  We stayed up the rest of the night talking, eating and prank calling before finally falling asleep. For the first time in 2 months, I was happy.',\n",
              " 'I caught up with Lisa quickly and grabbed her, throwing her over my shoulder while she thrashed and screamed, laughing her ass off. Hannah was taunting me getting teasingly close so I snapped my hand out and clamped it around her wrist, making her squeal. I carried Lisa and dragged Hannah into the water and then threw Lisa in, laughing as she coughed and spluttered, wiping water out of her face. She grinned at me and grabbed my hand pulling me into the water too and before I knew what was happening the other two girls jumped on me too. I heard my mom shout back, still laughing. “You girls knew this would happen, you deal with the consequences!”  I burst out laughing. Well I guess that’s what I get for falling asleep in front of three Peters girls, I should have known better! “You’d better run!” I shouted, streaking after one of them at random. It turned out to be Lisa so I smiled and pushed myself after her, making her scream at my mom for help, “Mom! Make him leave me alone!”  The three girls all got up and ran in different directions, laughing their asses off.  “Language, Nathaniel!” my mom scolded, giggling to herself.  “What the f*ck?” I shouted, my mouth dropping open in shock.  They’d drawn on me while I was asleep? Little bitches!  Slogans of: “Rosie’s bitch” with an arrow pointing down to the waistband of my shorts. “If lost please return to the local strip club” and “Momma’s little soldier” with some very crude drawings, were all over my chest and stomach. A big “You got Owned, by P, H L” and a big smiley face, was scrawled on my forearm.  I looked around at my stuff that I brought out here and something black on my chest caught my attention. I frowned and looked at it only to see my whole chest was covered in marker pen.  Hannah shook her head, looking at me innocently. Lisa choked on her laughter and turned away. I looked at them warningly, if this was some sort of joke….. Oh crap, they had better not have stolen my phone and text Rosie something!  “What are you three up to?” I asked, leaning up on my elbow. Actually come to think of it, why is Lisa there, laughing with them to? Shouldn’t she still be ignoring me for another few hours, this was a pretty quick turnaround for her. They were definitely up to something.  Ok, what the hell is this about?  They all exchanged glances but didn’t say anything, just carried on laughing. I yawned, I was still tired because of being out late last night, so I decided to have another hour of sleep. My dad walked past, carrying another cooler, probably refilling the drink supply. As he looked at me he started to laugh too. He high fived Paige on the way past, and then sat next to my mom on my other side, still chuckling to himself.  “What’s wrong with you guys? You look like the three witches in the opening scene of Macbeth,” I stated, laughing at my own joke as I settled back down on the towel.  I woke up to someone nudging my arm, I flicked my eyes around wondering where I was, then remembered I was at the beach. I smiled at Paige, Hannah and Lisa, who were all sitting there looking at me, giggling quietly. What the hell is that about? Oh god please don’t tell me I had some pervert dream and I’ve woken up with a boner! I jerked up slightly, putting my hand over my crotch, checking, but I was safe it was ok so I relaxed.  Three hours later and we were all at the beach at the end of my parents property. I loved the beach, I grew up here and I would love to move out here one day and have a house just like my parents, perhaps that’s just wishful thinking though. My mind flicked to Rosie, I bet DJ would love it here, building sandcastles. I smiled to myself and laid back on the towel, sunbathing. I’d been talking to Paige for the last hour about Rosie, we also caught up about her college as she’s in her final year so she has some exams coming up in a few months. It was nice just to catch up and chill with my family.  I started laughing too and just put my head in my hands, why did I have to have such a crazy mother?  Rosie was laughing so hard that I had to just listen to it for a minute until she calmed down enough to talk to me. “He’s giving me the stink eye….” she said, repeating my mother’s words, bursting into another fit of giggles.  I groaned and put the phone back to my ear, wincing slightly. “Rose, I’m so sorry! She took the phone before I even realised what she was doing. She’s like some freaking ninja woman, I didn’t even hear her come in the room,” I moaned, squeezing my eyes shut at how embarrassing that was.  She grinned and slapped me on the chest as she walked back out of the kitchen and onto the patio, exclaiming to my father: “Oh Evan, she’s so adorable!”  She put the phone back in my hand and I put it against my chest so Rosie couldn’t hear me, shaking my head in disbelief at what just happened. “What the hell was that? If you’ve scared her away from me mom I swear I’m gonna be so pissed I’ll have someone else do my laundry next month!” I threatened, frowning but trying not to laugh at the same time.  She rolled her eyes at me, “Ok, I’ve got to go, he’s giving me the stink eye for taking his phone.” She laughed again and I could hear Rosie laughing through the line too. “I’ll talk to you again soon and we should meet up…….. Absolutely. Can’t wait. Bye sweetheart!” my mom sang, still grinning happily.  I couldn’t take anymore, I held my hand out, glaring at her. “Enough now! Say bye and let me talk to her!” I said sternly.  I gripped my hands in my hair, as she spoke. “I’m Dawn, Nate’s mom……It’s nice to talk to you too, sweetheart……Yeah, he’s behaving.” She shot me a smirk and nodded, giving me a thumbs up sign, and I just wished the ground would open up and swallow me. She started laughing at something Rosie had said, “So you two have been together for a couple of weeks from what I’ve been told……I’m so pleased……Well if he does then you just tell me and I’ll give him a slap for you.” She laughed again, her eyes twinkling. “Oh really?.......Well I wish you would have come today with him……. Yeah, we’ll do that another time…….Absolutely sweetheart…….. I’m just glad he’s found someone that he cares about.”  Oh crap, please let this be a dream! Please let my mother really not have just stolen my phone and be talking to my girlfriend who she’s never even met! Rosie’s going to think my mother is freaking crazy! Hell, she is crazy based on what she’s doing right now!   “Hello? Is this Rosie?” she asked, grinning like a mad woman.  “Mom! What the hell?” I shouted, trying to grab for the phone, but she turned to the side and started to talking.  I jumped and looked around as my mom put the phone to her ear. Holy crap, what the hell is she doing? I moved to snatch the phone off of her before she could say something to Rosie and ruin everything for me, she could start cooing about her ‘new grandchild’ and scare Rosie away from me by being to forward, putting too much pressure on her or something.  “Sounds good. So, are you-” she started, but the phone was snatched out of my hand before she could finish.  I smiled, what on earth do I say to that? “Err….. ok. We’ve just eaten and I think we’re going to the beach in a bit,” I said shrugging and skimming over the whole ‘I have a grandchild?’ hysteria that came from my mom.  Rosie came back on the phone after a minute, “Sorry about that, I’m back now,” she mumbled. “So how’s the visit with your parents going?” she asked.  She laughed and then I heard a little voice off of the line. “Momma, can Auntie Sophie stay for lunch?” DJ asked her. There was muffled talking off of the phone, Rosie telling him that Sophie could stay if she wanted to and that they’d go to the park after. I smiled at the soft tone to her voice when she spoke to him, she really sounded like a great mom, he was a lucky kid.  I grinned and shook my head and then remembered that she couldn’t see me. “No if I was using my words, it would have been, hot loud little drunken brunette,” I stated.  She laughed quietly, “Loud little drunken brunette…… those sound more like your words, Nate.”  I laughed, “Well you did almost drain the rum from the bar last night, I heard the barman putting in a fresh order for a new case because the, and these are his words not mine, the loud little drunken brunette had made him a fortune,” I joked.  She groaned, “I feel bad. Why did I drink all that last night? Man, I honestly feel like a pile of……junk, right now,” she said, stumbling over her cuss word, I’m guessing DJ was within earshot.  I smiled at the sound of her voice, she was definitely suffering, her tone was hushed as if she didn’t want to speak too loudly and hurt her head or something. “Hey, Stripes. How are you feeling today?”  “Hey you,” she answered, after a couple of rings.  Instantly my mind flicked to Rosie again and I felt the smile creep onto my face, I couldn’t help but wonder if she was suffering today after all those Rum and Cokes she put away last night. I pulled my cell phone out of my pocket, frowning because it didn’t have much battery and I hadn’t thought to bring my charger, oh well, it’d be fine. I dialled her number quickly and held my breath waiting for her to answer.  I nodded, “Yeah, in a little while. Want to go hang at the beach or something in a bit?” I asked. She nodded and kissed my cheek as she walked out leaving me in the kitchen on my own.  “I missed you, Nate. You’ll tell me all about Rosie, right?” she asked, looking at me hopefully.  I batted her hand away, pretending to be annoyed as I ran my hand through my hair. “Don’t touch the hair, you know the rules,” I joked, making her laugh.  Paige laughed, “I like seeing you this happy, Nate. Don’t let mom get to you with her craziness, ok? You know she’s just excited that you’re all grown up,” she teased, ruffling my hair as a joke.  I grinned, “I didn’t see it coming either. She hit me like a freaking truck.”  “So you have a girlfriend, and she has a child, huh? Didn’t see that coming,” she admitted.  I slung my arm around her shoulder and pulled her to my side, kissing the top of her head. “Yeah I’m ok, little sister.”  It wasn’t her though, it was Paige. “Hey, you ok?” she smiled.  Someone touched my back, making me jump because I hadn’t heard anyone else come in. I silently prayed it wasn’t my mom, I just needed a minute of peace to let that little rant of hers sink in.  As I walked off I could hear my dad telling my mom to chill out and I shot him a grateful smile over my shoulder. I put the plate in the sink and took a couple of deep breaths, that was all just too much, there was me expecting an argument because my girlfriend was a single mother, and instead my mom is already cooing over the child that I hadn’t even met!  “I’ll be right back,” I muttered.  I looked at my dad for help and he just shrugged, shaking his head telling me he wasn’t getting involved, that I had to calm her down on my own. I groaned and picked up my empty plate, wanting to escape the madness for a little while.  “What does he look like? Please Nate, I need details!” she begged, sitting down again and looking at me expectantly.  “He’ll call you crazy if you keep going on like this,” I joked, laughing.  “You said it was a boy? How old is he? What’s his name? Go home and get them both!” my mom cried, with wide excited eyes. “Oh I can’t wait to see them! A grandchild! Oh I wonder what he’ll call me….. Grandma? No, too old. Nanny? Oh I like that one!” she beamed, wiping the tears from her eyes again.  “Look, it’s early days, ok? I’ve only known her a short time so let’s not get carried away here….” I suggested, shaking my head still laughing.  I couldn’t help but laugh, my mom hated Margaret, they had a lifelong competition going. Margaret was one of those people that had to upstage you, whatever my mom had done, Margaret had always done it better – according to her anyway – so the fact that Margaret had a grandchild already was something my mom couldn’t compete with.  “Nate! A baby! Oh my gosh, I can’t wait to tell the girls at bowling club! Margaret’s been rubbing it in my face that she has a grandchild already. Just wait until I wipe that smug look off of her face on Monday!” my mom chirped, grinning like a crazy person.  “Well….. it’s not…..it’s early…..” I started, unsure really how to answer that comment.  I flinched slightly at her reaction, which made both Paige and my dad laugh even harder.  “I have a grandchild?” she shrieked, clapping her hands and jumping out of her chair squealing excitedly.   My dad bust out laughing, the same as Paige did. Hannah’s mouth dropped open in shock, Lisa just continued to bob her head to the beat of the song she had blasting through her ear phones. And my mom…...well, her reaction was different altogether.  “Rosie has a little boy,” I said quietly, kind of hoping that they wouldn’t hear me. They did though.  I took a deep breath and wondered how my parents were going to react to knowing that Rosie had a son. Would they think bad of her for it? I really hoped not because I knew that would make me angry if they all started bashing her for being a single parent, and I didn’t really want to be having that argument with them.  “Commitments?” Paige asked, looking curious.  I smiled apologetically. “I can’t, Rosie has….err…..commitments, so she can’t just drop everything to come out here at will,” I said awkwardly.  “Well, what about tomorrow instead?” she suggested.  I laughed, I would love to do that, but right now Rosie was probably nursing the hangover from hell, it was only ten in the morning, and besides she had DJ this weekend. “I can’t, she’s busy today,” I replied, shrugging and ignoring my mom’s disappointed face.  My mom was beaming at me, “So, when do we get to meet her? Why didn’t you bring her with you today? Oh Nate, go home and get her and bring her back with you!” my mom begged, looking at me with the pleading eyes that she used on my dad all the time. That was where I learnt my puppy dog face from, by mimicking my mother.   When my dad looked at the photo he whistled appreciatively, “Nice job there, Nate!” he congratulated me, slapping my shoulder proudly. I laughed and rolled my eyes.  I laughed awkwardly as I rubbed the back of my neck, ok I wasn’t expecting her to get this excited about it! “Yeah, she’s awesome,” I muttered, stuffing down the rest of my fried breakfast as they all passed my phone around.  “Oh!” she squeaked as she looked at the picture, she was crying now and I kind of started to get a little freaked out. “She’s so beautiful, and look at you two together…..awww….this is…..aww….” she stuttered, swiping at the happy tears that continued to fall.  My mom made an excited little whooping noise and I started firing off the questions so fast that I almost regretted telling them about Rosie. What was her name, where did we meet, how long had I known her for, what did she do for a living. When she asked what she looked like, I pulled out my phone and found the photo that Rosie had taken of us last night. I handed the phone to my mom, who was so eager to see it that she practically snatched it out of my hand.  “That’s because I’ve never met anyone like her before,” I admitted, shrugging.  She gulped and shook her head, as if she was trying to work something out. “No…..it’s just…..you’ve never talked about a girl before,” she said, looking at me proudly.  “Is it really that shocking that I have a girlfriend?” I asked curiously.  Hannah was muttering about me under her breath, Lisa still had her earphones in and was pretending like I wasn’t even here, but Paige caught my eye and grinned at me. I looked back to my mom to see she was still looking a little shocked.  I grinned, “I’m the eldest, you have to listen to me. Plus, I’m the only boy that means that after dad, I get final say.” I told her. Mom cleared her throat at that statement, so I quickly backtracked. “And after mom of course,” I added laughing.  “You’re such an ass sometimes, Nate. Double standards or what? How is that fair?” she asked, frowning.  I smirked at her, “I like the saying: ‘do as I say, not as I do’” I stated, trying not to laugh.  “You get to have a girlfriend but yet you go off on one if any of us even talk to a guy?” she asked, looking at me, clearly annoyed about it.  A loud crash on the table got my attention away from my - slightly freaking out – mother. I looked over at Hannah to see that she’d slammed her hand down on the table and was glaring at me angrily.  I laughed again and shrugged. “Yeah she’s great, I really like her,” I said honestly.  “A g…girl?” my mom stuttered, looking like she had tears forming in her eyes.  I looked at my mom to see she was staring at me with wide eyes and her mouth hanging open in shock. I laughed at her, was it really that shocking that I had a girlfriend? I’d never had a serious one before so I’d never even admitted to them the casual flings I had with girls, as far as they were concerned this was the first girl they had probably ever heard about. Maybe she secretly thought I would never settle down, but I was almost twenty-six now, I guess everyone’s bachelor time comes to an end sooner or later.  I grinned like an idiot at the thought of Rosie, I nodded and my mom gasped. “Yeah actually,” I admitted proudly.  “Any girls on the scene, Nate?” my dad asked, smirking at me knowingly.  During breakfast talk turned to what I’d been up to lately, how were the Taylor’s and little baby Cameron. My mom adored Ashton, he didn’t really have any family of his own so I think she kind of adopted him a little when we became friends at the academy. When we got time off from training we’d come stay here, chill at the beach and she’d pamper us both like crazy, she loved Anna now too.  I laughed and pulled her into a hug, when I let her go, Paige grabbed me, wrapping her arm around my waist. She gasped, looking at me with fake horror, “You lost weight!” she stated, doing an excellent impression of my mom’s voice. Everyone burst into laughter and I felt myself relax, it was so good to be home.  She sighed and nodded, looking somewhat reluctant about it and I felt myself relax, once I’d checked him out he’d know not to mess her around, then everything would be fine. “Ok, I’ll ask him over tonight,” Hannah said, shrugging. She put down the cutlery she was holding and stepped closer to me, “So now that the lectures over with, do I get a proper hello?” she teased.  “Fine. But I want to meet him before I leave,” I countered, looking at Hannah sternly so she knew there was no discussing it, this wasn’t up for debate.  I frowned, I still needed to see the little punk, I don’t care if he was a ‘sweetheart’ or not, he needed to know that if he hurt my sister I’d hurt him twice as bad in return. I flicked my eyes to my dad, he was just standing there, watching the show with an amused smile on his face. He looked relaxed about it, he shrugged and shook his head slightly, in a ‘leave it alone’ gesture. I sighed, my dad always was laid back. People say that I was exactly the same as him, that I got my attitude from him, I know I got the looks from him that’s for sure. I was a spitting image of my dad, same build, same blonde hair and blue eyes, but I had my mom’s determination. When she set her mind to something she got it no matter what it was, she worked and worked until it was hers, and I was just the same.  Hannah laughed, “Well it’s not the first guy I’ve dated, and Robert is a sweetheart so you’ll leave him alone!” she said sternly as she crossed her arms over her chest.  But these were my baby sisters, they would always just be the little girls in pigtails that I used to take to the park and push on the swings, the little girls I used to play hide and seek with for hours on end because Paige was crazy obsessed with that game as a kid. It was too hard to let go of the big brother act that I’d done for so long and let them grow up, I didn’t want them to get hurt. I’d seen things that I didn’t ever want them to have to see, I’d met people that I didn’t ever want them to have to meet. I knew what the world was really like, my job opened me up to just what type of people there were out there, but I didn’t want them to know anything about that. I guess I was always hoping that I could protect them from everything.  She laughed and shared a knowing look with Paige who was standing there to and it suddenly dawned on me that there was probably a lot of boys that they’d been seeing and I didn’t know about them. My mind wandered to what I was like as at their age – hell when I was Lisa’s age even – I was doing things that would make the girls blush, who was I to judge?  I groaned, “I hoped it was,” I admitted.  She rolled her eyes, “Nate, I’m almost twenty-two, you can’t tell me what to do. You think this is my first boyfriend?” she asked, smirking at me.  “Hell yeah she did! Why is this the first time I’m hearing about this guy? Call him and invite him for breakfast,” I ordered, pulling my cell phone out of my pocket and holding it out to her.  She looked up at me and groaned, looking at me pleadingly, her eyes flicking back into the kitchen behind me. “Mom! Did you tell him about Robert?” she whined, pouting at me.  “Hannah!” I shouted, as I burst through the door.  I nodded and headed over towards the door, needing to go find out about this little punk that dare touch my little sister. I thought we all made a pact that they weren’t allowed to date until they moved out of home! I guess that was always a little unrealistic and I did make each of them take that oath on their tenth birthdays, so there’s a good chance she may have forgotten……  She sighed and shook her head. “Hannah.”  “Who?” I asked again, when she didn’t answer.  “He’s a nice boy before you start! They’ve only been seeing each other for a couple of weeks but she’s liked him for a while…..” she trailed off laughing, probably at me, considering I was instantly starting to worry about guys – like me – dating my sister. I knew exactly what kind of guys there were out there, I was one of the people I would warn my sisters about, guys that used people for their own interests, guys that just wanted to have fun.  “Who?” I demanded.  She smiled knowingly and I groaned. She didn’t need to say it, I knew what that smile meant. One of them was dating.  “And do I have any big brother duties to perform before I leave? Have they been skipping school? Stealing? Do I need to make some threats of castration to boys hanging around, or run some security checks?” I asked curiously.  I smiled, I hadn’t seen my sisters for a while, especially Paige. Last time I came here she was off for the weekend with friends, she was the one I got on with the most, we were the closest in age, I guess that makes a difference. She was twenty-three, the same age as Rosie.  Mom smiled, obviously catching on to my change of subject. I grinned sheepishly as she rolled her eyes. “They’re out back, setting up the table on the patio ready for breakfast,” she said, nodding towards the back door.  She nodded and looked at me longingly and I knew exactly what was coming…. ‘When are you going to settle down, Nate?’ I quickly spoke before she could say it. “Where’s dad? Hannah? Paige?” I asked.  “Really?” I asked, pretending to be interested, in reality I didn’t really care, Anthony was a dick.  Married? The guy was only 21! Why the hell would he want to get married at 21? For some reason my mind flicked to Rosie, which made me frown and shift on my feet awkwardly as I attacked another slice of bread. Stupid brain.  “We’re good. Let me think what’s happened since I spoke to you in the week……” she trailed off, pursing her lips thinking about the weekly events. I spoke to my mom at least once a week, I guess you could call me a momma’s boy but I didn’t care what you labeled it, my mom was awesome and that was all there is too it. She brightened and looked at me as she suddenly remembered something. “Cousin Anthony’s getting married!” she said, nodding enthusiastically.  I grinned, my mom only called me Nathaniel when she was telling me off about something. “She loves it really. So how have you all been?” I asked, picking at the bread that she’d buttered on the side. My stomach was growling at the thought of my mom’s cooking.  Mom laughed and shook her head, putting more sausages in the pan to cook. “Leave her alone, Nathaniel!” she scolded, rolling her eyes.  Her scowl deepened and she grabbed the carton of orange juice from the fridge, turning and stalking out of the room grumbling about me under her breath. This was the usual routine, she’d hate me for a couple of hours, and then by the time I left Monday morning, she’d be hanging all over me asking me when I’m coming back next, begging me to let her come and live in LA with me so she could see some city lights. She was only seventeen, and as baby sisters go she was a pain in the ass, but I loved her too much to complain about it.  I laughed and raised one eyebrow at her, her strops were getting worse. “Stop cussing! Any boyfriends I need to know about? I could make a trip there and break some legs before I leave,” I said, smiling sweetly.  She gasped and looked at mom. “I’m not washing it out just because golden boy says so! Tell him to leave me alone mom, he’s only been here for five minutes and he’s already pissing me off!” She crossed her arms over her chest defensively.  “Wash that crap out of your hair before I come next time,” I joked, putting on a stern face.  She snorted, “Whatever,” she scoffed, turning back to the fridge.  I smirked at her and nodded, “Yeah, you know it. Got a hug for me?” I asked, holding my arms out to her, already knowing she wouldn’t do it. She only ever came to me if she needed something, I guess I was a little too strict for her liking. When I wasn’t here she had run of the house, as youngest of three daughters, she got her own way over everything from my parents.  “Jerk!” she hissed.  Lisa nodded at me in acknowledgement, not taking her earphones out as she hummed along to the heavy metal crap she was listening to. I waited until she turned her back, looking in the fridge before I grabbed her from behind and span her round making her squeal and laugh. I put her down and she punched me in the arm, scowling at me.  I saw movement from the corner of my eye and my youngest sister Lisa walked in. As usual she was wearing baggy jeans and a band tee, too much eyeliner and black nails. Her blonde hair had thick jet black streaks in it. Hmm, they’re new! I flicked my eyes to my mom wondering why she let her do that to her hair, she just shrugged in response.  I looked her over to make sure everything was ok with her, I hadn’t been here for five weeks because everything was a little crazy at the moment with Cameron, Rosie and my job. My mom looked just the same as she always did, her mousy brown hair pulled back into a messy bun, her light blue eyes sparked with happiness. She was wearing her usual attire of shorts and a loose fitted top, designed for comfort but she still looked classy and beautiful even though she was pushing fifty five now.  I grinned, “I’m doing really good actually,” I admitted.  She smiled and linked her arm through mine, pulling me into the kitchen where she was already cooking up a storm ready for my arrival. “I missed you too. How have you been, you good?” she asked, eyeing me worriedly.  I nodded, “I missed you,” I said honestly, ignoring her comment, I had a nice girl and she was going to flip when I told her about Rosie! I’d not told her on the phone because at first I wanted to make sure it was working out, I didn’t want to tell my mom about her and then Rosie got bored of me, my mom would be hounding me about her forever if that happened. Since we became exclusive though I’d be desperate to tell my mom, but I wanted to do it in person, so I could see her face when I told her I was totally crazy about a girl.  “You really need to find a girl to look after you and feed you properly, Nathaniel!”  I pulled back and grinned as I shook my head. That was always the first thing out of her mouth, followed by…..  As I walked out of the room I was tackled into a hug by my mom, I laughed as she squeezed the life out of me. “You lost weight!” she griped, as she patted my back and sides as I hugged her.  I grinned and headed inside, shouting that I was here as soon as I walked through the door. I headed straight to the laundry room, dumping my bags there for my mom.  I made the short drive to Long Beach to my parents beach house. At that time of the morning I was there in under an hour. As I pulled into their drive, I smiled, I loved coming here. The smell of the air, the white house that I grew up in, the tree that I used to use to climb out of my bedroom when I wanted to sneak out……  I chuckled to myself quietly as I thought about our night out last night, Rosie definitely made an adorable drunk. I wonder if she’ll remember saying those things to me when she’s sober? I hoped she did, I definitely wanted to do that with her if she was up for it, I guess I’d find out when I saw her in a couple of days. I still hadn’t ruled out driving home Sunday afternoon so I could see her in the evening, instead of my usual routine of going straight to work from my parents on Monday morning. I’d call her in a few hours and see if she wanted to see me or not.  When my alarm went off early in the morning, I groaned and looked at it. Why had I set it for seven again? Then I remembered, I was going to my parents today. I reluctantly pushed myself out of the bed and headed for a quick shower before I grabbed my overnight bag and all of my dirty clothes that I had bundled into two trash bags. I headed downstairs so I could hail a cab to take me to Ashton’s to get my car. Usually I would have walked but I was too tired after only having a few hours sleep.   Chapter 15     *****Hey ok so another chapter, PLEASE ONLY VOTE FOR THIS ONE IF IT EITHER MAKES YOU LAUGH, OR CHUCKLE QUIETLY TO YOURSELF!!!! This story is in the Watty Awards in the Humour category – so it HAS to be funny, so only vote,like,tweet IF you laughed or at the very least had a grin like an idiot and snorted through your nose*****   Copyright © 2011 Kirsty Moseley  Banner made by FeistyKRox - awesome, right??? Thanks honey!!!! &lt;3&lt;3 COMMENT, VOTE, LIKE, TWEET – BUT ONLY IF IT MADE YOU LAUGH!! &lt;3  Gotta love those Peters girls, right????  Ok so I LMAO writing that part at the end…… hope you laughed a little too, if not then I guess I have a warped sense of humour! *****************************  I threw my phone on the side and jumped out of the bed, streaking across my room and yanking the door open. “MOM, DAD, I NEED TO BORROW A CELL PHONE! IT’S AN EMERGENCY!” I shouted, not caring if I woke up the whole house.  I HATE karma!  “Nooooooo! No, no, no, no, no!” I shouted, sitting up and hitting the buttons angrily, trying to get it to come back on. This cannot be happening to me! Right now? It had to happen right at that very moment? Damn it, can’t a guy catch a break?  Confused, I looked at my phone, only to see that the screen was black. What the hell? I pressed a few buttons but nothing happened. Oh my freaking god, had my battery run out?  More silence.  “Rose, you ok?”  Silence.  I waited for her to continue, but she didn’t. I frowned, “Slip….” I prompted.  She giggled, “Oh really? Actually, now that you’ve mentioned it, Player, it is getting warmer in here…. Maybe I’ll just slip-”  Ok, turn your game on, Nate! Don’t drop the ball, concentrate! “If you think you’re feeling hot right now then just wait a few minutes until we get going, I’ll soon have you out of those panties…..” I murmured lustfully. I could actually picture it, I’d always had a good imagination so this was the perfect thing for someone like me.  Of all the girls I could have chosen, I chose a hot little kinky girl, could my luck get any better than this right now? I pumped the air with my fist and looked at the ceiling, silently mouthing a thank you up there, because someone was certainly watching over me right now.  She giggled, “Well….. it was actually pretty hot tonight, so I went to sleep in a tiny pair of pink lacy panties and a skin tight pink tank top. What about you, Nate? What are you wearing right now?” she purred, sounding so seductive that I could barely stand it.  “Sure, if you want to that is….” I mumbled, actually crossing my fingers that she would agree to it.  No way. She wouldn’t, would she? Was this seriously about to happen? Was I already asleep and dreaming this up or something, or was my girlfriend seriously considering having phone $ex with me? I flopped back on the bed, closing my eyes as a thousand images of her bombarded my brain at once.  Holy. F*cking. $hit!  “Right now? On the phone?” she asked, sounding quite excited about it, all traces of sleep gone from her voice now. Wait, she was actually considering it? Did she not realise I was joking?  I needed to take it back quickly. Make this right, apologise and just ask if we could pretend like I never said anything. I sat up and gulped, starting to panic. I opened my mouth to apologise, when she spoke first.  Damn it, I’m such a freaking moron! I slapped my palm on my forehead angrily, gritting my teeth.  There was silence on the other end of the line and I felt the smile fall from my face, shit, I’d pushed it too far. She was drunk when she said it so she either didn’t remember saying it to me – in which case she just thought I was a kinky pervert right now. Or, she just wasn’t into it after all and I had just scared her away from me.  “Will you talk dirty to me?” I tried not to laugh as I mimicked her words from the night before.  “Yeah?”  I grinned, “And you’re already in bed so my timing is perfect,” I teased, trying to contain my excitement. “Rosie?”  She laughed, “Considering you woke me up, I’m wearing pyjamas,” she answered, playfully.  I grinned because my girlfriend was so damn awesome that I was allowed to wake her up after midnight and she didn’t even care. “Sweet,” I chirped. Ok, time for some fun. “So….” I dropped my voice down, trying to sound sexy, “What are you wearing?”  “No, it’s ok. I’m awake now anyway,” she said easily.  “Want me to go and let you get back to sleep?” I asked, praying she’d say no and that I could talk to her for a few minutes.  She laughed quietly, “Goodnight then, Nate,” she joked, pretending she was going to hang up.  I flicked my eyes to the alarm clock, wincing slightly, but she didn’t sound angry with me. “Yeah, it’s 12:11am.” I felt a little bad at the fact that I woke her up, but I hadn’t spoken to her for hours and I just needed to hear her voice again before I went to sleep. “Sorry, I just really wanted to say goodnight.”  “Nate, do you know what time it is?” she asked, her voice all husky and thick with sleep.  I closed my eyes and hoped that she would say yes. Instead of texting me back she called me. I grinned when her number flashed on my screen, her picture appearing there making my mouth water as usual.  ‘Stripes, R U awake? Can I call U?’ I sent.  I decided I could text her and see if she replied, hopefully she would still be awake, if not then a text was less likely to wake her than a call. She wouldn’t shout at me for that, would she?  I sat on the edge of my bed fighting with myself as to whether I could call her or not. I really wanted to speak to her again, I hadn’t spoken to her since this morning, and I’d only text her twice so I was already in some sort of pussy whipped withdrawal state.   “Guys, I’m going to bed. See you all in the morning!” I called, jogging back to the house. Was it too late for me to call her? What if I woke her up, or even worse – DJ? She’d kill me for sure, wouldn’t she?  When we got to them he walked straight up to Hannah, she was looking at me hopefully, I gave a small nod of approval and glanced down at my watch to see what the time was. It was after midnight. I jumped, slightly panicked. I hadn’t realised it had gotten so late and I was desperate to speak to Rosie.  He laughed and we made our way back over to them. When we rounded the corner I could see the girls watching us curiously. Then I remembered that I’d forgotten to say something important. I smiled and leant closer to him, “Oh and Robert? If you get my sister pregnant, I’m going to tear your balls off and shove them down your throat. Ok?” I asked, smiling so that Hannah wouldn’t know I was threatening him again. He gulped and nodded so I patted him on the back. “Awesome, glad we understand each other.”  I laughed, “Yeah we all have it. You’ll get used to it eventually,” I assured him. I nodded back to the door so he knew we could leave. “Come on then, lets get back. If I keep you over here any longer Hannah going to use the screechy voice and it makes my ears bleed.”  He laughed nervously, “Right. You know, you and Hannah have the same sense of humour,” he said nodding, relaxing now.  I gripped his shoulder. “That’s good, because hiding bodies really isn’t my forte!” I joked.  He nodded, “I really like your sister, Nate,” he said quietly.  He gulped, his eye twitching slightly as he shifted on his feet again. I assessed him to see if he was going to run. If he still wanted my sister after I’d just threated that, then maybe he deserved her.  “Ok so you seem like a fairly nice guy so I’m going to allow you to continue seeing my sister,” I said, nodding slowly, watching as his face relaxed slightly. I had a feeling that if I tried to keep him away from her, then Hannah would kick my ass, they did seem well suited. “But….” I added, raising one eyebrow. “I’m just going to say this, and leave you to think about it. Thanks to my training I can shoot you dead from hundreds of yards away. If you try to run, I can find you wherever you go, I have resources beyond your comprehension. If you hurt my sister, I swear, I will hunt you down and tear you limb from limb before I watch you bleed to death.” Dramatic I know, but he needed to understand I was serious.  He shifted on his feet nervously as I stood up and walked closer to him, his eyes flicking to the door again. I was suddenly wondering what Hannah had been telling him about me, he looked terrified, so she probably told him I was going to hurt him or something.  “Right,” I muttered sarcastically.  He shook his head, “N….no?” he stuttered, making it sound more like a question so I took that as a yes, he’d already had sex with my little sister. Great another thing to worry about……pregnancy. I guess that was more mom’s department than mine so I’d let her deal with Hannah.  “Yeah, about that……. I’ll always be worried. That’s my baby sister out there that you want to put your dirty hands on. Hell, maybe you’ve already put your dirty hands on her,” I suggested, flicking my eyes up to his face.  Robert nodded, his eyes flicking to the door. “Yeah, but before you say anything, I just want you to know that I really like your sister. I’ve liked her for a long time and we just want to see how it goes. You don’t need to be worried…..” he trailed off, watching as I tapped the hammer into the palm of my hand, trying to look thoughtful.  I laughed, “Let’s get this over with, we both know we’re not here to get wood, am I right?” I asked, cocking my head to the side as I sat on the counter, playing with my dad’s hammer that he’d left on the side.  “So…..where’s the wood stored?” he asked, politely, when I didn’t say anything.  He nodded and stood up, looking slightly pale. I’d made sure to drop into the conversation tonight a few things about my job but by the look on his face he knew what I did for a living anyway, and he was definitely scared of me. I matched my pace to his and we walked towards the workshop, when we stepped in through the door he stopped and looked at me curiously.  I smirked at her, this was happening with or without her approval so she just needed to be quiet. “We’ll get some more in from the workshop round the back. That way dad won’t have to replace what we took tomorrow, right Robert?” I asked, raising one eyebrow at him.  Hannah shook her head fiercely at me, “We have plenty of wood right here, Nate,” she hissed, nodding at the full basket next to the table.  Right then I think it’s time to talk to the little punk and then I can go call my girl. “Hey Robert, want to help me get more wood for the burner?” I asked, nodding at the open fire we had on the patio.  After a couple of hours of laughing and joking around, my parents stood up. “Right then, we’re going to bed,” my dad said smirking to himself as my mom smiled at him. Eww.… parent $ex, gross! I shuddered and tried not to get a mental picture, I looked over at Paige at the same time that she shuddered too. We really were so alike.  He nodded gratefully. I watched as she pulled him over to the grill, the pair of them whispering, Hannah shooting little glances over at me warning me to behave. For the rest of the night I watched him, he was all smiles for her, holding her hand, making her giggle and blush. They seemed to have a lot in common, he was a student at her college and they had been friends for the last six months, neither of them wanting to make the first move on the other.  Hannah cleared her throat, “Well how about we get some food, Robert? You hungry?” she asked, obviously trying to ease the tension in the air.  “Yeah,” I nodded.  He gulped and nodded, “Yeah. You’re Nate, right? I’ve heard a lot about you,” he said quietly. I give him his dues though, he was looking me in the eye, well for a couple of seconds anyway before he looked away nervously.  “Robert, is it?” I asked, looking him over slowly, taking in everything from his sneakers to his wrinkled shirt, could he have not made more effort?  Han? What the hell? Who on earth calls someone that? Idiot. His face was moving towards hers, going to kiss her, so I leapt out of my chair and cleared my throat warningly, making him pull back. Paige and Lisa started to giggle again as they watched.  “Hey, Han,” he answered, smiling at her affectionately.  He got to the table and Hannah smiled reassuringly as she walked to his side, taking his hand. “Hey, Robert,” she said, her voice a little tight.  Hurt him, what’s that about? I turned in my seat to see a guy in his early twenties walking towards us, a small scared expression on his face. He was average build, a brown hair, kinda messy, he looked like a student or something. Who was this? Suddenly it dawned on me, this was the little punk that dared to date my little sister! Well he was seriously in for it now because I was already in a bad mood.  Suddenly from the corner of my eye I saw Hannah stop laughing and sit straighter in her chair. She was looking over my shoulder at something. Her eyes drifted to me, “Please don’t hurt him!” she begged, looking at me pleadingly.  She just laughed harder, shaking her head. “Oh Nate, I wish you came here more often…..” she said wistfully.  I pulled out a piece of lettuce from my burger and threw it at her, scowling. “As eldest girl you should have been responsible for the pens!”  Paige moaned, clutching her stomach. “Please can we stop talking about it? I can’t laugh anymore, I hurt all over!” she complained, still chuckling.  I narrowed my eyes at her accusingly. I’d get her back though later, when they were all asleep, they all get theirs! I already had a plan, I just needed to wait until they were least expecting it.  As it turns out my three adorable, loving, sweet sisters, had just grabbed pens at random. Lisa was apparently the one that designed the ‘Rosie’s bitch’ slogan with the arrow pointing to my crotch. Unfortunately for me, she grabbed a black sharpie. Freaking awesome, the guys are going to rip me to shreds about this at work on Monday when they saw it!  I sighed, “But the other two managed to choose washable pens! If this doesn’t come off by Monday……” I whined, I know I sounded like a little girl but I just didn’t care.  She shrugged, looking at me apologetically. “I said I was sorry!”  I groaned again, still rubbing my stomach absentmindedly. “I can’t believe you didn’t check first, Lisa,” I grumbled for the hundredth time.  By the time nighttime came my sides hurt from all the laughing so much. My dad was cooking on the outdoor grill and we decided to all stay outside to eat.  “So, go tell a cop!” Paige joked, kicking water in my face. I grabbed her ankle and yanked her under the water as payback.  “Three against one is hardly fair!” I shouted, laughing as I broke the surface of the water after a three person dunking.',\n",
              " 'I hear it all the time boo! Too bad I ain\\'t got the patience for anyone else\\'s problems!  That got me laughing even through all the pain. It really wasn\\'t that good. I hugged me best friend. I\\'m pretty sure I squeezed the life out of her.   I hung up hastily. Another day, another phone call he ignores.  \"Cleo go and answer the door!!\" I swear I feel like a bloody slave in this house!  I barely had enough time to go upstairs and change when a knock came at the door.  I got to work quickly cleaning the kitchen, bathroom and living room, which wasn\\'t easy since this woman was in the way! When I finished I had sweat pouring all down my face. I was shattered!  Her face immediately darkened and I knew this wasn\\'t good. \"Ehhhh! If you\\'re not a baby anymore then you can go and find a job and start paying rent! Now hurry up and tidy! Uncle Tony will be here in 30 minutes!!!\" She turned her attention back to the tv, where she was watching some poorly edited  film on Nollywood  \"Mum!! I\\'m 17 not 2! Please stop treating me like a baby!\"  Her expression softened and her face lit up with glee, catching me off guard. \"Ohhhhh studying hard for school! Mi bah! (My baby)  Come, let me give you nufwo (breast milk)\" she tried to pull my face to her breasts but I was having none of that.  \"Mum! I was up all night studying for my psychology exam. I fell asleep.\" I replied carefully trying to hide my impatience at her lack of understanding. This woman is like a time bomb, never know when she\\'s going to explode.  \"HMM!!\" She kissed her teeth giving me death glares. Boy if looks could kill!!! \"What have I told you about leaving the house untidy before you go to bed??!\" She questioned, her voice revealing a slight African accent.  I quickly ran down the stairs knowing that if I were to make her wait any longer, my curvaceous black ass would be on the receiving end of a firm beating. Now I may be 17 and taller than this woman, but she will not hesitate to remove that slipper and beat me till the cows come home.  \"AH! CLEO!! Brah ha! (Twi for Come here!)  Hurry up! My mum screamed clearly getting impatient.  \"Cleo Ansah! Come on, tidy up the house before uncle Tony gets here!\" My mum bellowed from the living room. I sighed, mentally pushing all feelings to one side. I can\\'t dwell on it too much. If he can treat me like this then clearly I meant nothing to him! And also-  It\\'s not even the fact that he took my virginity, although I must admit it wasn\\'t exactly how I imagined it would be, far from it actually. It\\'s the fact that he just stopped talking to me. We would speak everyday, 27/7. Even when I had college, we would talk all day between classes and stay up all night. I trusted him with everything, I told him everything. He was my best friend for 3 whole years and he just left me after taking a thing most precious to me.  Unable to contain my anger, I threw my phone watching as it smashed into the wall breaking into pieces. I hate how he\\'s making me feel like this. I feel used, disgusted, hurts but most the most overwhelming of all the emotions, betrayal. I never knew it could hurt this bad. It\\'s been 2 fucking months! 2 months and I haven\\'t heard from him. 2 months since he started ignoring me. 2 months since he took my virginity and dumped my ass like I was worthless.  *Your call has been forwarded to the T-Mobile voicemail service 077-*  My hand started twitching. I knew it was a bad idea but I just couldn\\'t help myself. I grabbed my phone, furiously typing his number.  I should have waited. I shouldn\\'t have given in so easily. It\\'s times like this that I wish there was some way to travel back in time or even listened when my mum said \"don\\'t trust guys!!\"  I stared at my phone as if it were the root of all my problems. Perhaps I had been too eager? They say guys don\\'t like a girl who gives in easily, but since when was I classed as that kind of girl? It\\'s been around 2 months already. I thought about texting him but that hasn\\'t got me anywhere so far. He just ignores those too.  Maybe it\\'s time I just gave up, it\\'s not likely that he\\'s going to call me back, not after what I gave him. I sighed running my hands through my hair frustrated at my situation. How hard is it to pick up a damn phone!?? I felt that pang deep down in my stomach, you know? The one that you feel when you\\'re too hurt beyond words to describe how you feel.  My story isn\\'t exactly your typical one although it does start out with a guy. And I fell for him. Fast.  *Your call has been forwarded to the T-Mobile voicemail service 077-* \"Thank you Nicky. You always know just what to say. Has anyone ever told you that you should become a life coach!\"   \"I know you miss him babe but think of it this way. If he can claim leave you taking your virtue after claiming that he cared about you, then he\\'s really not worth the pain and hassle. Some guys are dogs. You just happened to fall for a bad one but that doesn\\'t mean that there isn\\'t someone out there who can make you just as, if not, happier than he ever could. Don\\'t dwell on the past hunny, move past that wasteman prick. As you said, the sex weren\\'t even that good!\"  Nicole wrapped her arms around me burying me in her warm embrace. I shook my head in response. \"Nothing Nicky, not even a text. It\\'s like he\\'s disappeared off the face of the Earth which I know isn\\'t true because Kenneth said he\\'s heard from him recently and he has the same number, which means that he IS specifically just avoiding me, which makes me sad and hurt that he would do this to me. I don\\'t know what to do Nicky. I miss the friendship that we had.\"  Warm tears started trickling down my face.  \"You\\'re thinking about him again,\" She said pulling me out of my thoughts. She could always tell when I was thinking about him. \"Has he still not called you back?\"  Nicole always knows how to make me smile. She\\'s been my bestest friend for as long as I can remember. We\\'re practically sisters since we grew up together. She\\'s the only person who knows all the explicit details about what happened with HIM.  \"GOOD MORNING BOLTIMORE!!\" We both sang, well screamed, at the top of our voices while trying to munch through bags of Doritos, Oreos and Ribena. This pretty much continued throughout the film. Heck we even sang the songs playing on the credits. \"Girl what you waiting for?? You best put that film on!\" I nestled into Nicky\\'s bed getting comfortable while she put our favourite film on, Hairspray. That\\'s my film right there! No one can even talk about that film!  We giggled at our silliness before raiding the kitchen of all junk food carrying it all up the stairs to her room.  I laughed loudly wrapping my arm around her waist, leading her into the house. \"You know how it is baby. Mans feeling kinda fresh innit! Mans always gotta be lookin fresh!\" I replied poppin my collar.  \"Oooh girl! You looking fine today! I see you going all out to try and impress me! No need baby girl, you had me at hello! She said after finally pulling away.  Oof! I barely had time to blink before she opened the door, running into me with a thud engulfing me in what can only be described as a monster bear hug.  The sun was shining and the air was warm as I made my way to Nicole\\'s house. It was a nice summers day which is always surprising in London and I could hear the kids playing outside In the streets. It didn\\'t take me long to get to Nicole\\'s house considering that she only lives a few roads away from me. I knocked on her door waiting patiently for her to answer!  I put on my electric blue skinny jeans with a white vest top and my black leather jacket. I finished my outfit with my blue and white Jordan\\'s adding some cute silver studs and some accessories. I shoved my long, frizzy black hair into a low bun before grabbing the necessities and leaving the house shouting a quick goodbye to my mum and Uncle Tony.  \"Love you boo!\" We hung up and I immediately started getting dressed.  \"You know I\\'ll be over in 10. See ya sweet cheeks!\"  \"Girl! You need to come down to my house ASAP! Don\\'t want you emotionally scarred after hearing that nastiness!\" Yes people, my mum and uncle Tony are hooking up. Eugh! The thought makes me sick!  \"Nothin much, old man Tony is downstairs. I really don\\'t wanna be here when shit goes down. Eugh!\" I fake shuddered knowing she wouldn\\'t be able to see me but still adding dramatic effect to our conversation.  \"It\\'s all good boo boo! I\\'m at home! What you doing?\" \"Nicole!!! My girrrllllll!! How you do baby boo?!\" I replied, a smile breaking onto my face.  \"CLEEEEEEEEEOOOOOOOOOOOOOOO!!!!!\" She screamed into my ear. I love this girl she always knows how to cheer me up.  I quickly let him in, running away from his intense pervy stare. I flopped onto my bed, no longer feeling the need to call him, but angry at what he did to me. Grabbing the house phone , i felt the need to vent, so I called the one girl that always had my back.  Uncle Tony stood their grinning in all his pervy goodness, his eyes raking over my legs which were  left uncovered by the shorts I was wearing. Ugh he makes me feel sick! I know what you\\'re thinking, pervy uncle checking out his niece, nasty! Don\\'t get it twisted, we\\'re not actually related. We Ghanians call our parent\\'s friend auntie/uncle out of respect, no relation required.  We stayed up the rest of the night talking, eating and prank calling before finally falling asleep. For the first time in 2 months, I was happy.',\n",
              " 'the dirt after the rain. soaking the hot, parched earth. Curl up in bed, or warm up by the fire. Breathe in the scent of then do it all over again. Cry out all your pain, Breathe. Better grab your Smile, and close your eyes. thirsty sidewalk. Rain hits the dry, yellow umbrella. Tears falling from the sky, face. let the sun warm your blue, blue sky, Lift your arms towards the']"
            ]
          },
          "metadata": {
            "tags": []
          },
          "execution_count": 149
        }
      ]
    },
    {
      "cell_type": "code",
      "metadata": {
        "colab": {
          "base_uri": "https://localhost:8080/"
        },
        "id": "xArHkTJHn2He",
        "outputId": "1573051d-ff6f-4eba-d7fc-a149ac09a97e"
      },
      "source": [
        "print('{} \\t {} : {} \\t {} : {} \\t {} : {} \\n {} : {} \\t {} : {} '.format(input_id,output_id[0],output_score[0],output_id[1],output_score[1],output_id[2],output_score[2],output_id[3],output_score[3],output_id[4],output_score[4]))"
      ],
      "execution_count": null,
      "outputs": [
        {
          "output_type": "stream",
          "text": [
            "12345 \t 54461 : 0.9786640443542408 \t 90041 : 0.9781648819118495 \t 54461 : 0.9778631714302628 \n",
            " 90041 : 0.9707312147016227 \t 48027 : 0.9679920714939757 \n"
          ],
          "name": "stdout"
        }
      ]
    },
    {
      "cell_type": "code",
      "metadata": {
        "colab": {
          "base_uri": "https://localhost:8080/"
        },
        "id": "z0zvyguls6hZ",
        "outputId": "7903d9c8-f8fc-413b-ec38-d9476296feac"
      },
      "source": [
        "see['id'].iloc[0]"
      ],
      "execution_count": null,
      "outputs": [
        {
          "output_type": "execute_result",
          "data": {
            "text/plain": [
              "54461"
            ]
          },
          "metadata": {
            "tags": []
          },
          "execution_count": 144
        }
      ]
    }
  ]
}